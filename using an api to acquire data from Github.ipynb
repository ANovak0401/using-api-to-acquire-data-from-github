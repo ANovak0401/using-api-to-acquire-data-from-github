{
 "cells": [
  {
   "cell_type": "code",
   "execution_count": 1,
   "metadata": {},
   "outputs": [
    {
     "name": "stdout",
     "output_type": "stream",
     "text": [
      "Status code: 200\n",
      "dict_keys(['total_count', 'incomplete_results', 'items'])\n"
     ]
    }
   ],
   "source": [
    "\"\"\"using an api to acquire star data from github\"\"\"\n",
    "import requests\n",
    "\n",
    "# make an api call and store the response\n",
    "url = 'https://api.github.com/search/repositories?q=language:python&sort=stars' # variable for api url\n",
    "headers = {'Accept': 'application/vnd.github.v3+json'} # request github api version 3\n",
    "r = requests.get(url, headers=headers) # send request to github for data\n",
    "print(f\"Status code: {r.status_code}\") # print the status code to terminal\n",
    "\n",
    "# Store api response in a variable\n",
    "response_dict = r.json()\n",
    "\n",
    "# process results\n",
    "print(response_dict.keys())\n"
   ]
  },
  {
   "cell_type": "code",
   "execution_count": 2,
   "metadata": {},
   "outputs": [
    {
     "name": "stdout",
     "output_type": "stream",
     "text": [
      "Total repositories: 6446509\n",
      "Repositories returned: 30\n",
      "\n",
      "Keys: 74\n",
      "archive_url\n",
      "archived\n",
      "assignees_url\n",
      "blobs_url\n",
      "branches_url\n",
      "clone_url\n",
      "collaborators_url\n",
      "comments_url\n",
      "commits_url\n",
      "compare_url\n",
      "contents_url\n",
      "contributors_url\n",
      "created_at\n",
      "default_branch\n",
      "deployments_url\n",
      "description\n",
      "disabled\n",
      "downloads_url\n",
      "events_url\n",
      "fork\n",
      "forks\n",
      "forks_count\n",
      "forks_url\n",
      "full_name\n",
      "git_commits_url\n",
      "git_refs_url\n",
      "git_tags_url\n",
      "git_url\n",
      "has_downloads\n",
      "has_issues\n",
      "has_pages\n",
      "has_projects\n",
      "has_wiki\n",
      "homepage\n",
      "hooks_url\n",
      "html_url\n",
      "id\n",
      "issue_comment_url\n",
      "issue_events_url\n",
      "issues_url\n",
      "keys_url\n",
      "labels_url\n",
      "language\n",
      "languages_url\n",
      "license\n",
      "merges_url\n",
      "milestones_url\n",
      "mirror_url\n",
      "name\n",
      "node_id\n",
      "notifications_url\n",
      "open_issues\n",
      "open_issues_count\n",
      "owner\n",
      "private\n",
      "pulls_url\n",
      "pushed_at\n",
      "releases_url\n",
      "score\n",
      "size\n",
      "ssh_url\n",
      "stargazers_count\n",
      "stargazers_url\n",
      "statuses_url\n",
      "subscribers_url\n",
      "subscription_url\n",
      "svn_url\n",
      "tags_url\n",
      "teams_url\n",
      "trees_url\n",
      "updated_at\n",
      "url\n",
      "watchers\n",
      "watchers_count\n"
     ]
    }
   ],
   "source": [
    "\"\"\"working with the response dictionary\"\"\"\n",
    "\n",
    "print(f\"Total repositories: {response_dict['total_count']}\") # print total number of python repositories\n",
    "\n",
    "\"\"\"explore repository information\"\"\"\n",
    "repo_dicts = response_dict['items'] # list of python dictionaries\n",
    "print(f\"Repositories returned: {len(repo_dicts)}\") # print length of list to terminal\n",
    "\n",
    "\"\"\"examine the first repository\"\"\"\n",
    "repo_dict = repo_dicts[0] # variable for first dictionary in repo_dicts list\n",
    "print(f\"\\nKeys: {len(repo_dict)}\") # print number of keys in repo_dict dictionary\n",
    "for key in sorted(repo_dict.keys()): # for each key in repo_dict key list\n",
    "    print(key) # print key to terminal"
   ]
  },
  {
   "cell_type": "code",
   "execution_count": 3,
   "metadata": {},
   "outputs": [
    {
     "name": "stdout",
     "output_type": "stream",
     "text": [
      "\n",
      "Selected information about firt repository:\n",
      "Name: system-design-primer\n",
      "Owner: donnemartin\n",
      "Stars: 116854\n",
      "Repository: https://github.com/donnemartin/system-design-primer\n",
      "Created: 2017-02-26T16:15:28Z\n",
      "Updated: 2021-01-01T13:39:59Z\n",
      "Description: Learn how to design large-scale systems. Prep for the system design interview.  Includes Anki flashcards.\n"
     ]
    }
   ],
   "source": [
    "\"\"\"pulling some key values\"\"\"\n",
    "\n",
    "print(\"\\nSelected information about firt repository:\") # a title\n",
    "print(f\"Name: {repo_dict['name']}\") # print name of repository\n",
    "print(f\"Owner: {repo_dict['owner']['login']}\") # print owner login name\n",
    "print(f\"Stars: {repo_dict['stargazers_count']}\") # print number of stars\n",
    "print(f\"Repository: {repo_dict['html_url']}\") # print repository url\n",
    "print(f\"Created: {repo_dict['created_at']}\") # print creation date\n",
    "print(f\"Updated: {repo_dict['updated_at']}\") # print last update date\n",
    "print(f\"Description: {repo_dict['description']}\") # print description of repository"
   ]
  },
  {
   "cell_type": "code",
   "execution_count": 5,
   "metadata": {},
   "outputs": [
    {
     "name": "stdout",
     "output_type": "stream",
     "text": [
      "\n",
      "Selected information about each repository:\n",
      "\n",
      "Name: system-design-primer\n",
      "Owner: donnemartin\n",
      "Stars: 116854\n",
      "Repository: https://github.com/donnemartin/system-design-primer\n",
      "Created: 2017-02-26T16:15:28Z\n",
      "Updated: 2021-01-01T13:39:59Z\n",
      "Description: Learn how to design large-scale systems. Prep for the system design interview.  Includes Anki flashcards.\n",
      "\n",
      "Name: public-apis\n",
      "Owner: public-apis\n",
      "Stars: 106504\n",
      "Repository: https://github.com/public-apis/public-apis\n",
      "Created: 2016-03-20T23:49:42Z\n",
      "Updated: 2021-01-01T13:40:33Z\n",
      "Description: A collective list of free APIs for use in software and web development.\n",
      "\n",
      "Name: Python-100-Days\n",
      "Owner: jackfrued\n",
      "Stars: 97707\n",
      "Repository: https://github.com/jackfrued/Python-100-Days\n",
      "Created: 2018-03-01T16:05:52Z\n",
      "Updated: 2021-01-01T13:37:23Z\n",
      "Description: Python - 100天从新手到大师\n",
      "\n",
      "Name: Python\n",
      "Owner: TheAlgorithms\n",
      "Stars: 96611\n",
      "Repository: https://github.com/TheAlgorithms/Python\n",
      "Created: 2016-07-16T09:44:01Z\n",
      "Updated: 2021-01-01T13:02:18Z\n",
      "Description: All Algorithms implemented in Python\n",
      "\n",
      "Name: awesome-python\n",
      "Owner: vinta\n",
      "Stars: 91939\n",
      "Repository: https://github.com/vinta/awesome-python\n",
      "Created: 2014-06-27T21:00:06Z\n",
      "Updated: 2021-01-01T12:40:52Z\n",
      "Description: A curated list of awesome Python frameworks, libraries, software and resources\n",
      "\n",
      "Name: youtube-dl\n",
      "Owner: ytdl-org\n",
      "Stars: 86360\n",
      "Repository: https://github.com/ytdl-org/youtube-dl\n",
      "Created: 2010-10-31T14:35:07Z\n",
      "Updated: 2021-01-01T13:43:35Z\n",
      "Description: Command-line program to download videos from YouTube.com and other video sites\n",
      "\n",
      "Name: models\n",
      "Owner: tensorflow\n",
      "Stars: 68111\n",
      "Repository: https://github.com/tensorflow/models\n",
      "Created: 2016-02-05T01:15:20Z\n",
      "Updated: 2021-01-01T10:36:32Z\n",
      "Description: Models and examples built with TensorFlow\n",
      "\n",
      "Name: thefuck\n",
      "Owner: nvbn\n",
      "Stars: 58194\n",
      "Repository: https://github.com/nvbn/thefuck\n",
      "Created: 2015-04-08T15:08:04Z\n",
      "Updated: 2021-01-01T13:37:01Z\n",
      "Description: Magnificent app which corrects your previous console command.\n",
      "\n",
      "Name: django\n",
      "Owner: django\n",
      "Stars: 54681\n",
      "Repository: https://github.com/django/django\n",
      "Created: 2012-04-28T02:47:18Z\n",
      "Updated: 2021-01-01T12:43:21Z\n",
      "Description: The Web framework for perfectionists with deadlines.\n",
      "\n",
      "Name: flask\n",
      "Owner: pallets\n",
      "Stars: 53361\n",
      "Repository: https://github.com/pallets/flask\n",
      "Created: 2010-04-06T11:11:59Z\n",
      "Updated: 2021-01-01T12:34:05Z\n",
      "Description: The Python micro framework for building web applications.\n",
      "\n",
      "Name: keras\n",
      "Owner: keras-team\n",
      "Stars: 50430\n",
      "Repository: https://github.com/keras-team/keras\n",
      "Created: 2015-03-28T00:35:42Z\n",
      "Updated: 2021-01-01T05:49:55Z\n",
      "Description: Deep Learning for humans\n",
      "\n",
      "Name: httpie\n",
      "Owner: httpie\n",
      "Stars: 49337\n",
      "Repository: https://github.com/httpie/httpie\n",
      "Created: 2012-02-25T12:39:13Z\n",
      "Updated: 2021-01-01T12:57:08Z\n",
      "Description: As easy as /aitch-tee-tee-pie/ 🥧 Modern, user-friendly command-line HTTP client for the API era. JSON support, colors, sessions, downloads, plugins & more. https://twitter.com/httpie\n",
      "\n",
      "Name: awesome-machine-learning\n",
      "Owner: josephmisiti\n",
      "Stars: 47734\n",
      "Repository: https://github.com/josephmisiti/awesome-machine-learning\n",
      "Created: 2014-07-15T19:11:19Z\n",
      "Updated: 2021-01-01T13:36:29Z\n",
      "Description: A curated list of awesome Machine Learning frameworks, libraries and software.\n",
      "\n",
      "Name: ansible\n",
      "Owner: ansible\n",
      "Stars: 46297\n",
      "Repository: https://github.com/ansible/ansible\n",
      "Created: 2012-03-06T14:58:02Z\n",
      "Updated: 2021-01-01T12:21:48Z\n",
      "Description: Ansible is a radically simple IT automation platform that makes your applications and systems easier to deploy and maintain. Automate everything from code deployment to network configuration to cloud management, in a language that approaches plain English, using SSH, with no agents to install on remote systems. https://docs.ansible.com.\n",
      "\n",
      "Name: requests\n",
      "Owner: psf\n",
      "Stars: 44265\n",
      "Repository: https://github.com/psf/requests\n",
      "Created: 2011-02-13T18:38:17Z\n",
      "Updated: 2021-01-01T07:31:34Z\n",
      "Description: A simple, yet elegant HTTP library.\n",
      "\n",
      "Name: scikit-learn\n",
      "Owner: scikit-learn\n",
      "Stars: 43578\n",
      "Repository: https://github.com/scikit-learn/scikit-learn\n",
      "Created: 2010-08-17T09:43:38Z\n",
      "Updated: 2021-01-01T12:59:10Z\n",
      "Description: scikit-learn: machine learning in Python\n",
      "\n",
      "Name: scrapy\n",
      "Owner: scrapy\n",
      "Stars: 39334\n",
      "Repository: https://github.com/scrapy/scrapy\n",
      "Created: 2010-02-22T02:01:14Z\n",
      "Updated: 2021-01-01T09:25:23Z\n",
      "Description: Scrapy, a fast high-level web crawling & scraping framework for Python.\n",
      "\n",
      "Name: big-list-of-naughty-strings\n",
      "Owner: minimaxir\n",
      "Stars: 38889\n",
      "Repository: https://github.com/minimaxir/big-list-of-naughty-strings\n",
      "Created: 2015-08-08T20:57:20Z\n",
      "Updated: 2021-01-01T12:20:52Z\n",
      "Description: The Big List of Naughty Strings is a list of strings which have a high probability of causing issues when used as user-input data.\n",
      "\n",
      "Name: transformers\n",
      "Owner: huggingface\n",
      "Stars: 38772\n",
      "Repository: https://github.com/huggingface/transformers\n",
      "Created: 2018-10-29T13:56:00Z\n",
      "Updated: 2021-01-01T12:54:48Z\n",
      "Description: 🤗Transformers: State-of-the-art Natural Language Processing for Pytorch and TensorFlow 2.0.\n",
      "\n",
      "Name: face_recognition\n",
      "Owner: ageitgey\n",
      "Stars: 37934\n",
      "Repository: https://github.com/ageitgey/face_recognition\n",
      "Created: 2017-03-03T21:52:39Z\n",
      "Updated: 2021-01-01T11:39:30Z\n",
      "Description: The world's simplest facial recognition api for Python and the command line\n",
      "\n",
      "Name: HelloGitHub\n",
      "Owner: 521xueweihan\n",
      "Stars: 35872\n",
      "Repository: https://github.com/521xueweihan/HelloGitHub\n",
      "Created: 2016-05-04T06:24:11Z\n",
      "Updated: 2021-01-01T12:03:25Z\n",
      "Description: :octocat: Find pearls on open-source seashore 分享 GitHub 上有趣、入门级的开源项目\n",
      "\n",
      "Name: faceswap\n",
      "Owner: deepfakes\n",
      "Stars: 33767\n",
      "Repository: https://github.com/deepfakes/faceswap\n",
      "Created: 2017-12-19T09:44:13Z\n",
      "Updated: 2021-01-01T13:22:21Z\n",
      "Description: Deepfakes Software For All\n",
      "\n",
      "Name: shadowsocks\n",
      "Owner: shadowsocks\n",
      "Stars: 32898\n",
      "Repository: https://github.com/shadowsocks/shadowsocks\n",
      "Created: 2012-04-20T13:10:49Z\n",
      "Updated: 2020-12-31T12:17:12Z\n",
      "Description: None\n",
      "\n",
      "Name: incubator-superset\n",
      "Owner: apache\n",
      "Stars: 31704\n",
      "Repository: https://github.com/apache/incubator-superset\n",
      "Created: 2015-07-21T18:55:34Z\n",
      "Updated: 2021-01-01T11:31:01Z\n",
      "Description: Apache Superset is a Data Visualization and Data Exploration Platform\n",
      "\n",
      "Name: XX-Net\n",
      "Owner: XX-net\n",
      "Stars: 30510\n",
      "Repository: https://github.com/XX-net/XX-Net\n",
      "Created: 2015-01-15T09:35:51Z\n",
      "Updated: 2021-01-01T10:53:06Z\n",
      "Description: A proxy tool to bypass GFW.\n",
      "\n",
      "Name: interview_internal_reference\n",
      "Owner: 0voice\n",
      "Stars: 29859\n",
      "Repository: https://github.com/0voice/interview_internal_reference\n",
      "Created: 2019-06-10T06:54:19Z\n",
      "Updated: 2021-01-01T12:16:30Z\n",
      "Description: 2020年最新总结，阿里，腾讯，百度，美团，头条等技术面试题目，以及答案，专家出题人分析汇总。\n",
      "\n",
      "Name: CppCoreGuidelines\n",
      "Owner: isocpp\n",
      "Stars: 29551\n",
      "Repository: https://github.com/isocpp/CppCoreGuidelines\n",
      "Created: 2015-08-19T20:22:52Z\n",
      "Updated: 2021-01-01T07:29:37Z\n",
      "Description: The C++ Core Guidelines are a set of tried-and-true guidelines, rules, and best practices about coding in C++\n",
      "\n",
      "Name: Deep-Learning-Papers-Reading-Roadmap\n",
      "Owner: floodsung\n",
      "Stars: 29005\n",
      "Repository: https://github.com/floodsung/Deep-Learning-Papers-Reading-Roadmap\n",
      "Created: 2016-10-14T11:49:48Z\n",
      "Updated: 2021-01-01T11:30:06Z\n",
      "Description: Deep Learning papers reading roadmap for anyone who are eager to learn this amazing tech!\n",
      "\n",
      "Name: AiLearning\n",
      "Owner: apachecn\n",
      "Stars: 28449\n",
      "Repository: https://github.com/apachecn/AiLearning\n",
      "Created: 2017-02-25T08:53:02Z\n",
      "Updated: 2021-01-01T11:49:14Z\n",
      "Description: AiLearning: 机器学习 - MachineLearning - ML、深度学习 - DeepLearning - DL、自然语言处理 NLP\n",
      "\n",
      "Name: pandas\n",
      "Owner: pandas-dev\n",
      "Stars: 27871\n",
      "Repository: https://github.com/pandas-dev/pandas\n",
      "Created: 2010-08-24T01:37:33Z\n",
      "Updated: 2021-01-01T13:16:14Z\n",
      "Description: Flexible and powerful data analysis / manipulation library for Python, providing labeled data structures similar to R data.frame objects, statistical functions, and much more\n"
     ]
    }
   ],
   "source": [
    "\"\"\"summarizing the top repositories\"\"\"\n",
    "\n",
    "print(\"\\nSelected information about each repository:\") # a title\n",
    "for repo_dict in repo_dicts: # for loop to look at each repo dictionary\n",
    "    print(f\"\\nName: {repo_dict['name']}\") # print name of repository\n",
    "    print(f\"Owner: {repo_dict['owner']['login']}\") # print owner login name\n",
    "    print(f\"Stars: {repo_dict['stargazers_count']}\") # print number of stars\n",
    "    print(f\"Repository: {repo_dict['html_url']}\") # print repository url\n",
    "    print(f\"Created: {repo_dict['created_at']}\") # print creation date\n",
    "    print(f\"Updated: {repo_dict['updated_at']}\") # print last update date\n",
    "    print(f\"Description: {repo_dict['description']}\") # print description of repository"
   ]
  },
  {
   "cell_type": "code",
   "execution_count": 7,
   "metadata": {},
   "outputs": [
    {
     "data": {
      "application/vnd.plotly.v1+json": {
       "config": {
        "linkText": "Export to plot.ly",
        "plotlyServerURL": "https://plot.ly",
        "showLink": false
       },
       "data": [
        {
         "type": "bar",
         "x": [
          "system-design-primer",
          "public-apis",
          "Python-100-Days",
          "Python",
          "awesome-python",
          "youtube-dl",
          "models",
          "thefuck",
          "django",
          "flask",
          "keras",
          "httpie",
          "awesome-machine-learning",
          "ansible",
          "requests",
          "scikit-learn",
          "scrapy",
          "big-list-of-naughty-strings",
          "transformers",
          "face_recognition",
          "HelloGitHub",
          "faceswap",
          "shadowsocks",
          "incubator-superset",
          "XX-Net",
          "interview_internal_reference",
          "CppCoreGuidelines",
          "Deep-Learning-Papers-Reading-Roadmap",
          "AiLearning",
          "pandas"
         ],
         "y": [
          116854,
          106504,
          97707,
          96611,
          91939,
          86360,
          68111,
          58194,
          54681,
          53361,
          50430,
          49337,
          47734,
          46297,
          44265,
          43578,
          39334,
          38889,
          38772,
          37934,
          35872,
          33767,
          32898,
          31704,
          30510,
          29859,
          29551,
          29005,
          28449,
          27871
         ]
        }
       ],
       "layout": {
        "template": {
         "data": {
          "bar": [
           {
            "error_x": {
             "color": "#2a3f5f"
            },
            "error_y": {
             "color": "#2a3f5f"
            },
            "marker": {
             "line": {
              "color": "#E5ECF6",
              "width": 0.5
             }
            },
            "type": "bar"
           }
          ],
          "barpolar": [
           {
            "marker": {
             "line": {
              "color": "#E5ECF6",
              "width": 0.5
             }
            },
            "type": "barpolar"
           }
          ],
          "carpet": [
           {
            "aaxis": {
             "endlinecolor": "#2a3f5f",
             "gridcolor": "white",
             "linecolor": "white",
             "minorgridcolor": "white",
             "startlinecolor": "#2a3f5f"
            },
            "baxis": {
             "endlinecolor": "#2a3f5f",
             "gridcolor": "white",
             "linecolor": "white",
             "minorgridcolor": "white",
             "startlinecolor": "#2a3f5f"
            },
            "type": "carpet"
           }
          ],
          "choropleth": [
           {
            "colorbar": {
             "outlinewidth": 0,
             "ticks": ""
            },
            "type": "choropleth"
           }
          ],
          "contour": [
           {
            "colorbar": {
             "outlinewidth": 0,
             "ticks": ""
            },
            "colorscale": [
             [
              0,
              "#0d0887"
             ],
             [
              0.1111111111111111,
              "#46039f"
             ],
             [
              0.2222222222222222,
              "#7201a8"
             ],
             [
              0.3333333333333333,
              "#9c179e"
             ],
             [
              0.4444444444444444,
              "#bd3786"
             ],
             [
              0.5555555555555556,
              "#d8576b"
             ],
             [
              0.6666666666666666,
              "#ed7953"
             ],
             [
              0.7777777777777778,
              "#fb9f3a"
             ],
             [
              0.8888888888888888,
              "#fdca26"
             ],
             [
              1,
              "#f0f921"
             ]
            ],
            "type": "contour"
           }
          ],
          "contourcarpet": [
           {
            "colorbar": {
             "outlinewidth": 0,
             "ticks": ""
            },
            "type": "contourcarpet"
           }
          ],
          "heatmap": [
           {
            "colorbar": {
             "outlinewidth": 0,
             "ticks": ""
            },
            "colorscale": [
             [
              0,
              "#0d0887"
             ],
             [
              0.1111111111111111,
              "#46039f"
             ],
             [
              0.2222222222222222,
              "#7201a8"
             ],
             [
              0.3333333333333333,
              "#9c179e"
             ],
             [
              0.4444444444444444,
              "#bd3786"
             ],
             [
              0.5555555555555556,
              "#d8576b"
             ],
             [
              0.6666666666666666,
              "#ed7953"
             ],
             [
              0.7777777777777778,
              "#fb9f3a"
             ],
             [
              0.8888888888888888,
              "#fdca26"
             ],
             [
              1,
              "#f0f921"
             ]
            ],
            "type": "heatmap"
           }
          ],
          "heatmapgl": [
           {
            "colorbar": {
             "outlinewidth": 0,
             "ticks": ""
            },
            "colorscale": [
             [
              0,
              "#0d0887"
             ],
             [
              0.1111111111111111,
              "#46039f"
             ],
             [
              0.2222222222222222,
              "#7201a8"
             ],
             [
              0.3333333333333333,
              "#9c179e"
             ],
             [
              0.4444444444444444,
              "#bd3786"
             ],
             [
              0.5555555555555556,
              "#d8576b"
             ],
             [
              0.6666666666666666,
              "#ed7953"
             ],
             [
              0.7777777777777778,
              "#fb9f3a"
             ],
             [
              0.8888888888888888,
              "#fdca26"
             ],
             [
              1,
              "#f0f921"
             ]
            ],
            "type": "heatmapgl"
           }
          ],
          "histogram": [
           {
            "marker": {
             "colorbar": {
              "outlinewidth": 0,
              "ticks": ""
             }
            },
            "type": "histogram"
           }
          ],
          "histogram2d": [
           {
            "colorbar": {
             "outlinewidth": 0,
             "ticks": ""
            },
            "colorscale": [
             [
              0,
              "#0d0887"
             ],
             [
              0.1111111111111111,
              "#46039f"
             ],
             [
              0.2222222222222222,
              "#7201a8"
             ],
             [
              0.3333333333333333,
              "#9c179e"
             ],
             [
              0.4444444444444444,
              "#bd3786"
             ],
             [
              0.5555555555555556,
              "#d8576b"
             ],
             [
              0.6666666666666666,
              "#ed7953"
             ],
             [
              0.7777777777777778,
              "#fb9f3a"
             ],
             [
              0.8888888888888888,
              "#fdca26"
             ],
             [
              1,
              "#f0f921"
             ]
            ],
            "type": "histogram2d"
           }
          ],
          "histogram2dcontour": [
           {
            "colorbar": {
             "outlinewidth": 0,
             "ticks": ""
            },
            "colorscale": [
             [
              0,
              "#0d0887"
             ],
             [
              0.1111111111111111,
              "#46039f"
             ],
             [
              0.2222222222222222,
              "#7201a8"
             ],
             [
              0.3333333333333333,
              "#9c179e"
             ],
             [
              0.4444444444444444,
              "#bd3786"
             ],
             [
              0.5555555555555556,
              "#d8576b"
             ],
             [
              0.6666666666666666,
              "#ed7953"
             ],
             [
              0.7777777777777778,
              "#fb9f3a"
             ],
             [
              0.8888888888888888,
              "#fdca26"
             ],
             [
              1,
              "#f0f921"
             ]
            ],
            "type": "histogram2dcontour"
           }
          ],
          "mesh3d": [
           {
            "colorbar": {
             "outlinewidth": 0,
             "ticks": ""
            },
            "type": "mesh3d"
           }
          ],
          "parcoords": [
           {
            "line": {
             "colorbar": {
              "outlinewidth": 0,
              "ticks": ""
             }
            },
            "type": "parcoords"
           }
          ],
          "pie": [
           {
            "automargin": true,
            "type": "pie"
           }
          ],
          "scatter": [
           {
            "marker": {
             "colorbar": {
              "outlinewidth": 0,
              "ticks": ""
             }
            },
            "type": "scatter"
           }
          ],
          "scatter3d": [
           {
            "line": {
             "colorbar": {
              "outlinewidth": 0,
              "ticks": ""
             }
            },
            "marker": {
             "colorbar": {
              "outlinewidth": 0,
              "ticks": ""
             }
            },
            "type": "scatter3d"
           }
          ],
          "scattercarpet": [
           {
            "marker": {
             "colorbar": {
              "outlinewidth": 0,
              "ticks": ""
             }
            },
            "type": "scattercarpet"
           }
          ],
          "scattergeo": [
           {
            "marker": {
             "colorbar": {
              "outlinewidth": 0,
              "ticks": ""
             }
            },
            "type": "scattergeo"
           }
          ],
          "scattergl": [
           {
            "marker": {
             "colorbar": {
              "outlinewidth": 0,
              "ticks": ""
             }
            },
            "type": "scattergl"
           }
          ],
          "scattermapbox": [
           {
            "marker": {
             "colorbar": {
              "outlinewidth": 0,
              "ticks": ""
             }
            },
            "type": "scattermapbox"
           }
          ],
          "scatterpolar": [
           {
            "marker": {
             "colorbar": {
              "outlinewidth": 0,
              "ticks": ""
             }
            },
            "type": "scatterpolar"
           }
          ],
          "scatterpolargl": [
           {
            "marker": {
             "colorbar": {
              "outlinewidth": 0,
              "ticks": ""
             }
            },
            "type": "scatterpolargl"
           }
          ],
          "scatterternary": [
           {
            "marker": {
             "colorbar": {
              "outlinewidth": 0,
              "ticks": ""
             }
            },
            "type": "scatterternary"
           }
          ],
          "surface": [
           {
            "colorbar": {
             "outlinewidth": 0,
             "ticks": ""
            },
            "colorscale": [
             [
              0,
              "#0d0887"
             ],
             [
              0.1111111111111111,
              "#46039f"
             ],
             [
              0.2222222222222222,
              "#7201a8"
             ],
             [
              0.3333333333333333,
              "#9c179e"
             ],
             [
              0.4444444444444444,
              "#bd3786"
             ],
             [
              0.5555555555555556,
              "#d8576b"
             ],
             [
              0.6666666666666666,
              "#ed7953"
             ],
             [
              0.7777777777777778,
              "#fb9f3a"
             ],
             [
              0.8888888888888888,
              "#fdca26"
             ],
             [
              1,
              "#f0f921"
             ]
            ],
            "type": "surface"
           }
          ],
          "table": [
           {
            "cells": {
             "fill": {
              "color": "#EBF0F8"
             },
             "line": {
              "color": "white"
             }
            },
            "header": {
             "fill": {
              "color": "#C8D4E3"
             },
             "line": {
              "color": "white"
             }
            },
            "type": "table"
           }
          ]
         },
         "layout": {
          "annotationdefaults": {
           "arrowcolor": "#2a3f5f",
           "arrowhead": 0,
           "arrowwidth": 1
          },
          "autotypenumbers": "strict",
          "coloraxis": {
           "colorbar": {
            "outlinewidth": 0,
            "ticks": ""
           }
          },
          "colorscale": {
           "diverging": [
            [
             0,
             "#8e0152"
            ],
            [
             0.1,
             "#c51b7d"
            ],
            [
             0.2,
             "#de77ae"
            ],
            [
             0.3,
             "#f1b6da"
            ],
            [
             0.4,
             "#fde0ef"
            ],
            [
             0.5,
             "#f7f7f7"
            ],
            [
             0.6,
             "#e6f5d0"
            ],
            [
             0.7,
             "#b8e186"
            ],
            [
             0.8,
             "#7fbc41"
            ],
            [
             0.9,
             "#4d9221"
            ],
            [
             1,
             "#276419"
            ]
           ],
           "sequential": [
            [
             0,
             "#0d0887"
            ],
            [
             0.1111111111111111,
             "#46039f"
            ],
            [
             0.2222222222222222,
             "#7201a8"
            ],
            [
             0.3333333333333333,
             "#9c179e"
            ],
            [
             0.4444444444444444,
             "#bd3786"
            ],
            [
             0.5555555555555556,
             "#d8576b"
            ],
            [
             0.6666666666666666,
             "#ed7953"
            ],
            [
             0.7777777777777778,
             "#fb9f3a"
            ],
            [
             0.8888888888888888,
             "#fdca26"
            ],
            [
             1,
             "#f0f921"
            ]
           ],
           "sequentialminus": [
            [
             0,
             "#0d0887"
            ],
            [
             0.1111111111111111,
             "#46039f"
            ],
            [
             0.2222222222222222,
             "#7201a8"
            ],
            [
             0.3333333333333333,
             "#9c179e"
            ],
            [
             0.4444444444444444,
             "#bd3786"
            ],
            [
             0.5555555555555556,
             "#d8576b"
            ],
            [
             0.6666666666666666,
             "#ed7953"
            ],
            [
             0.7777777777777778,
             "#fb9f3a"
            ],
            [
             0.8888888888888888,
             "#fdca26"
            ],
            [
             1,
             "#f0f921"
            ]
           ]
          },
          "colorway": [
           "#636efa",
           "#EF553B",
           "#00cc96",
           "#ab63fa",
           "#FFA15A",
           "#19d3f3",
           "#FF6692",
           "#B6E880",
           "#FF97FF",
           "#FECB52"
          ],
          "font": {
           "color": "#2a3f5f"
          },
          "geo": {
           "bgcolor": "white",
           "lakecolor": "white",
           "landcolor": "#E5ECF6",
           "showlakes": true,
           "showland": true,
           "subunitcolor": "white"
          },
          "hoverlabel": {
           "align": "left"
          },
          "hovermode": "closest",
          "mapbox": {
           "style": "light"
          },
          "paper_bgcolor": "white",
          "plot_bgcolor": "#E5ECF6",
          "polar": {
           "angularaxis": {
            "gridcolor": "white",
            "linecolor": "white",
            "ticks": ""
           },
           "bgcolor": "#E5ECF6",
           "radialaxis": {
            "gridcolor": "white",
            "linecolor": "white",
            "ticks": ""
           }
          },
          "scene": {
           "xaxis": {
            "backgroundcolor": "#E5ECF6",
            "gridcolor": "white",
            "gridwidth": 2,
            "linecolor": "white",
            "showbackground": true,
            "ticks": "",
            "zerolinecolor": "white"
           },
           "yaxis": {
            "backgroundcolor": "#E5ECF6",
            "gridcolor": "white",
            "gridwidth": 2,
            "linecolor": "white",
            "showbackground": true,
            "ticks": "",
            "zerolinecolor": "white"
           },
           "zaxis": {
            "backgroundcolor": "#E5ECF6",
            "gridcolor": "white",
            "gridwidth": 2,
            "linecolor": "white",
            "showbackground": true,
            "ticks": "",
            "zerolinecolor": "white"
           }
          },
          "shapedefaults": {
           "line": {
            "color": "#2a3f5f"
           }
          },
          "ternary": {
           "aaxis": {
            "gridcolor": "white",
            "linecolor": "white",
            "ticks": ""
           },
           "baxis": {
            "gridcolor": "white",
            "linecolor": "white",
            "ticks": ""
           },
           "bgcolor": "#E5ECF6",
           "caxis": {
            "gridcolor": "white",
            "linecolor": "white",
            "ticks": ""
           }
          },
          "title": {
           "x": 0.05
          },
          "xaxis": {
           "automargin": true,
           "gridcolor": "white",
           "linecolor": "white",
           "ticks": "",
           "title": {
            "standoff": 15
           },
           "zerolinecolor": "white",
           "zerolinewidth": 2
          },
          "yaxis": {
           "automargin": true,
           "gridcolor": "white",
           "linecolor": "white",
           "ticks": "",
           "title": {
            "standoff": 15
           },
           "zerolinecolor": "white",
           "zerolinewidth": 2
          }
         }
        },
        "title": {
         "text": "Most-Starred Python Projects on Github"
        },
        "xaxis": {
         "title": {
          "text": "Repository"
         }
        },
        "yaxis": {
         "title": {
          "text": "Stars"
         }
        }
       }
      },
      "text/html": [
       "<div>                            <div id=\"4ef1fe3e-4319-4b25-b802-3566a4b3ab53\" class=\"plotly-graph-div\" style=\"height:525px; width:100%;\"></div>            <script type=\"text/javascript\">                require([\"plotly\"], function(Plotly) {                    window.PLOTLYENV=window.PLOTLYENV || {};                                    if (document.getElementById(\"4ef1fe3e-4319-4b25-b802-3566a4b3ab53\")) {                    Plotly.newPlot(                        \"4ef1fe3e-4319-4b25-b802-3566a4b3ab53\",                        [{\"type\": \"bar\", \"x\": [\"system-design-primer\", \"public-apis\", \"Python-100-Days\", \"Python\", \"awesome-python\", \"youtube-dl\", \"models\", \"thefuck\", \"django\", \"flask\", \"keras\", \"httpie\", \"awesome-machine-learning\", \"ansible\", \"requests\", \"scikit-learn\", \"scrapy\", \"big-list-of-naughty-strings\", \"transformers\", \"face_recognition\", \"HelloGitHub\", \"faceswap\", \"shadowsocks\", \"incubator-superset\", \"XX-Net\", \"interview_internal_reference\", \"CppCoreGuidelines\", \"Deep-Learning-Papers-Reading-Roadmap\", \"AiLearning\", \"pandas\"], \"y\": [116854, 106504, 97707, 96611, 91939, 86360, 68111, 58194, 54681, 53361, 50430, 49337, 47734, 46297, 44265, 43578, 39334, 38889, 38772, 37934, 35872, 33767, 32898, 31704, 30510, 29859, 29551, 29005, 28449, 27871]}],                        {\"template\": {\"data\": {\"bar\": [{\"error_x\": {\"color\": \"#2a3f5f\"}, \"error_y\": {\"color\": \"#2a3f5f\"}, \"marker\": {\"line\": {\"color\": \"#E5ECF6\", \"width\": 0.5}}, \"type\": \"bar\"}], \"barpolar\": [{\"marker\": {\"line\": {\"color\": \"#E5ECF6\", \"width\": 0.5}}, \"type\": \"barpolar\"}], \"carpet\": [{\"aaxis\": {\"endlinecolor\": \"#2a3f5f\", \"gridcolor\": \"white\", \"linecolor\": \"white\", \"minorgridcolor\": \"white\", \"startlinecolor\": \"#2a3f5f\"}, \"baxis\": {\"endlinecolor\": \"#2a3f5f\", \"gridcolor\": \"white\", \"linecolor\": \"white\", \"minorgridcolor\": \"white\", \"startlinecolor\": \"#2a3f5f\"}, \"type\": \"carpet\"}], \"choropleth\": [{\"colorbar\": {\"outlinewidth\": 0, \"ticks\": \"\"}, \"type\": \"choropleth\"}], \"contour\": [{\"colorbar\": {\"outlinewidth\": 0, \"ticks\": \"\"}, \"colorscale\": [[0.0, \"#0d0887\"], [0.1111111111111111, \"#46039f\"], [0.2222222222222222, \"#7201a8\"], [0.3333333333333333, \"#9c179e\"], [0.4444444444444444, \"#bd3786\"], [0.5555555555555556, \"#d8576b\"], [0.6666666666666666, \"#ed7953\"], [0.7777777777777778, \"#fb9f3a\"], [0.8888888888888888, \"#fdca26\"], [1.0, \"#f0f921\"]], \"type\": \"contour\"}], \"contourcarpet\": [{\"colorbar\": {\"outlinewidth\": 0, \"ticks\": \"\"}, \"type\": \"contourcarpet\"}], \"heatmap\": [{\"colorbar\": {\"outlinewidth\": 0, \"ticks\": \"\"}, \"colorscale\": [[0.0, \"#0d0887\"], [0.1111111111111111, \"#46039f\"], [0.2222222222222222, \"#7201a8\"], [0.3333333333333333, \"#9c179e\"], [0.4444444444444444, \"#bd3786\"], [0.5555555555555556, \"#d8576b\"], [0.6666666666666666, \"#ed7953\"], [0.7777777777777778, \"#fb9f3a\"], [0.8888888888888888, \"#fdca26\"], [1.0, \"#f0f921\"]], \"type\": \"heatmap\"}], \"heatmapgl\": [{\"colorbar\": {\"outlinewidth\": 0, \"ticks\": \"\"}, \"colorscale\": [[0.0, \"#0d0887\"], [0.1111111111111111, \"#46039f\"], [0.2222222222222222, \"#7201a8\"], [0.3333333333333333, \"#9c179e\"], [0.4444444444444444, \"#bd3786\"], [0.5555555555555556, \"#d8576b\"], [0.6666666666666666, \"#ed7953\"], [0.7777777777777778, \"#fb9f3a\"], [0.8888888888888888, \"#fdca26\"], [1.0, \"#f0f921\"]], \"type\": \"heatmapgl\"}], \"histogram\": [{\"marker\": {\"colorbar\": {\"outlinewidth\": 0, \"ticks\": \"\"}}, \"type\": \"histogram\"}], \"histogram2d\": [{\"colorbar\": {\"outlinewidth\": 0, \"ticks\": \"\"}, \"colorscale\": [[0.0, \"#0d0887\"], [0.1111111111111111, \"#46039f\"], [0.2222222222222222, \"#7201a8\"], [0.3333333333333333, \"#9c179e\"], [0.4444444444444444, \"#bd3786\"], [0.5555555555555556, \"#d8576b\"], [0.6666666666666666, \"#ed7953\"], [0.7777777777777778, \"#fb9f3a\"], [0.8888888888888888, \"#fdca26\"], [1.0, \"#f0f921\"]], \"type\": \"histogram2d\"}], \"histogram2dcontour\": [{\"colorbar\": {\"outlinewidth\": 0, \"ticks\": \"\"}, \"colorscale\": [[0.0, \"#0d0887\"], [0.1111111111111111, \"#46039f\"], [0.2222222222222222, \"#7201a8\"], [0.3333333333333333, \"#9c179e\"], [0.4444444444444444, \"#bd3786\"], [0.5555555555555556, \"#d8576b\"], [0.6666666666666666, \"#ed7953\"], [0.7777777777777778, \"#fb9f3a\"], [0.8888888888888888, \"#fdca26\"], [1.0, \"#f0f921\"]], \"type\": \"histogram2dcontour\"}], \"mesh3d\": [{\"colorbar\": {\"outlinewidth\": 0, \"ticks\": \"\"}, \"type\": \"mesh3d\"}], \"parcoords\": [{\"line\": {\"colorbar\": {\"outlinewidth\": 0, \"ticks\": \"\"}}, \"type\": \"parcoords\"}], \"pie\": [{\"automargin\": true, \"type\": \"pie\"}], \"scatter\": [{\"marker\": {\"colorbar\": {\"outlinewidth\": 0, \"ticks\": \"\"}}, \"type\": \"scatter\"}], \"scatter3d\": [{\"line\": {\"colorbar\": {\"outlinewidth\": 0, \"ticks\": \"\"}}, \"marker\": {\"colorbar\": {\"outlinewidth\": 0, \"ticks\": \"\"}}, \"type\": \"scatter3d\"}], \"scattercarpet\": [{\"marker\": {\"colorbar\": {\"outlinewidth\": 0, \"ticks\": \"\"}}, \"type\": \"scattercarpet\"}], \"scattergeo\": [{\"marker\": {\"colorbar\": {\"outlinewidth\": 0, \"ticks\": \"\"}}, \"type\": \"scattergeo\"}], \"scattergl\": [{\"marker\": {\"colorbar\": {\"outlinewidth\": 0, \"ticks\": \"\"}}, \"type\": \"scattergl\"}], \"scattermapbox\": [{\"marker\": {\"colorbar\": {\"outlinewidth\": 0, \"ticks\": \"\"}}, \"type\": \"scattermapbox\"}], \"scatterpolar\": [{\"marker\": {\"colorbar\": {\"outlinewidth\": 0, \"ticks\": \"\"}}, \"type\": \"scatterpolar\"}], \"scatterpolargl\": [{\"marker\": {\"colorbar\": {\"outlinewidth\": 0, \"ticks\": \"\"}}, \"type\": \"scatterpolargl\"}], \"scatterternary\": [{\"marker\": {\"colorbar\": {\"outlinewidth\": 0, \"ticks\": \"\"}}, \"type\": \"scatterternary\"}], \"surface\": [{\"colorbar\": {\"outlinewidth\": 0, \"ticks\": \"\"}, \"colorscale\": [[0.0, \"#0d0887\"], [0.1111111111111111, \"#46039f\"], [0.2222222222222222, \"#7201a8\"], [0.3333333333333333, \"#9c179e\"], [0.4444444444444444, \"#bd3786\"], [0.5555555555555556, \"#d8576b\"], [0.6666666666666666, \"#ed7953\"], [0.7777777777777778, \"#fb9f3a\"], [0.8888888888888888, \"#fdca26\"], [1.0, \"#f0f921\"]], \"type\": \"surface\"}], \"table\": [{\"cells\": {\"fill\": {\"color\": \"#EBF0F8\"}, \"line\": {\"color\": \"white\"}}, \"header\": {\"fill\": {\"color\": \"#C8D4E3\"}, \"line\": {\"color\": \"white\"}}, \"type\": \"table\"}]}, \"layout\": {\"annotationdefaults\": {\"arrowcolor\": \"#2a3f5f\", \"arrowhead\": 0, \"arrowwidth\": 1}, \"autotypenumbers\": \"strict\", \"coloraxis\": {\"colorbar\": {\"outlinewidth\": 0, \"ticks\": \"\"}}, \"colorscale\": {\"diverging\": [[0, \"#8e0152\"], [0.1, \"#c51b7d\"], [0.2, \"#de77ae\"], [0.3, \"#f1b6da\"], [0.4, \"#fde0ef\"], [0.5, \"#f7f7f7\"], [0.6, \"#e6f5d0\"], [0.7, \"#b8e186\"], [0.8, \"#7fbc41\"], [0.9, \"#4d9221\"], [1, \"#276419\"]], \"sequential\": [[0.0, \"#0d0887\"], [0.1111111111111111, \"#46039f\"], [0.2222222222222222, \"#7201a8\"], [0.3333333333333333, \"#9c179e\"], [0.4444444444444444, \"#bd3786\"], [0.5555555555555556, \"#d8576b\"], [0.6666666666666666, \"#ed7953\"], [0.7777777777777778, \"#fb9f3a\"], [0.8888888888888888, \"#fdca26\"], [1.0, \"#f0f921\"]], \"sequentialminus\": [[0.0, \"#0d0887\"], [0.1111111111111111, \"#46039f\"], [0.2222222222222222, \"#7201a8\"], [0.3333333333333333, \"#9c179e\"], [0.4444444444444444, \"#bd3786\"], [0.5555555555555556, \"#d8576b\"], [0.6666666666666666, \"#ed7953\"], [0.7777777777777778, \"#fb9f3a\"], [0.8888888888888888, \"#fdca26\"], [1.0, \"#f0f921\"]]}, \"colorway\": [\"#636efa\", \"#EF553B\", \"#00cc96\", \"#ab63fa\", \"#FFA15A\", \"#19d3f3\", \"#FF6692\", \"#B6E880\", \"#FF97FF\", \"#FECB52\"], \"font\": {\"color\": \"#2a3f5f\"}, \"geo\": {\"bgcolor\": \"white\", \"lakecolor\": \"white\", \"landcolor\": \"#E5ECF6\", \"showlakes\": true, \"showland\": true, \"subunitcolor\": \"white\"}, \"hoverlabel\": {\"align\": \"left\"}, \"hovermode\": \"closest\", \"mapbox\": {\"style\": \"light\"}, \"paper_bgcolor\": \"white\", \"plot_bgcolor\": \"#E5ECF6\", \"polar\": {\"angularaxis\": {\"gridcolor\": \"white\", \"linecolor\": \"white\", \"ticks\": \"\"}, \"bgcolor\": \"#E5ECF6\", \"radialaxis\": {\"gridcolor\": \"white\", \"linecolor\": \"white\", \"ticks\": \"\"}}, \"scene\": {\"xaxis\": {\"backgroundcolor\": \"#E5ECF6\", \"gridcolor\": \"white\", \"gridwidth\": 2, \"linecolor\": \"white\", \"showbackground\": true, \"ticks\": \"\", \"zerolinecolor\": \"white\"}, \"yaxis\": {\"backgroundcolor\": \"#E5ECF6\", \"gridcolor\": \"white\", \"gridwidth\": 2, \"linecolor\": \"white\", \"showbackground\": true, \"ticks\": \"\", \"zerolinecolor\": \"white\"}, \"zaxis\": {\"backgroundcolor\": \"#E5ECF6\", \"gridcolor\": \"white\", \"gridwidth\": 2, \"linecolor\": \"white\", \"showbackground\": true, \"ticks\": \"\", \"zerolinecolor\": \"white\"}}, \"shapedefaults\": {\"line\": {\"color\": \"#2a3f5f\"}}, \"ternary\": {\"aaxis\": {\"gridcolor\": \"white\", \"linecolor\": \"white\", \"ticks\": \"\"}, \"baxis\": {\"gridcolor\": \"white\", \"linecolor\": \"white\", \"ticks\": \"\"}, \"bgcolor\": \"#E5ECF6\", \"caxis\": {\"gridcolor\": \"white\", \"linecolor\": \"white\", \"ticks\": \"\"}}, \"title\": {\"x\": 0.05}, \"xaxis\": {\"automargin\": true, \"gridcolor\": \"white\", \"linecolor\": \"white\", \"ticks\": \"\", \"title\": {\"standoff\": 15}, \"zerolinecolor\": \"white\", \"zerolinewidth\": 2}, \"yaxis\": {\"automargin\": true, \"gridcolor\": \"white\", \"linecolor\": \"white\", \"ticks\": \"\", \"title\": {\"standoff\": 15}, \"zerolinecolor\": \"white\", \"zerolinewidth\": 2}}}, \"title\": {\"text\": \"Most-Starred Python Projects on Github\"}, \"xaxis\": {\"title\": {\"text\": \"Repository\"}}, \"yaxis\": {\"title\": {\"text\": \"Stars\"}}},                        {\"responsive\": true}                    ).then(function(){\n",
       "                            \n",
       "var gd = document.getElementById('4ef1fe3e-4319-4b25-b802-3566a4b3ab53');\n",
       "var x = new MutationObserver(function (mutations, observer) {{\n",
       "        var display = window.getComputedStyle(gd).display;\n",
       "        if (!display || display === 'none') {{\n",
       "            console.log([gd, 'removed!']);\n",
       "            Plotly.purge(gd);\n",
       "            observer.disconnect();\n",
       "        }}\n",
       "}});\n",
       "\n",
       "// Listen for the removal of the full notebook cells\n",
       "var notebookContainer = gd.closest('#notebook-container');\n",
       "if (notebookContainer) {{\n",
       "    x.observe(notebookContainer, {childList: true});\n",
       "}}\n",
       "\n",
       "// Listen for the clearing of the current output cell\n",
       "var outputEl = gd.closest('.output');\n",
       "if (outputEl) {{\n",
       "    x.observe(outputEl, {childList: true});\n",
       "}}\n",
       "\n",
       "                        })                };                });            </script>        </div>"
      ]
     },
     "metadata": {},
     "output_type": "display_data"
    }
   ],
   "source": [
    "\"\"\"creating a visualization using plotly\"\"\"\n",
    "\n",
    "from plotly.graph_objs import Bar # import plotly bar chart\n",
    "from plotly import offline # import offline charting\n",
    "\n",
    "\"\"\"extract data to be plotted\"\"\"\n",
    "repo_names, stars = [], [] # create to empty lists for names and number of stars\n",
    "for repo_dict in repo_dicts: # for loop looking at each dictionary\n",
    "    repo_names.append(repo_dict['name']) # add name of dictionary to repo_names list\n",
    "    stars.append(repo_dict['stargazers_count']) # add number of stars to stars list\n",
    "    \n",
    "\"\"\"define data in plot\"\"\"\n",
    "data = [{             # data to be plotted\n",
    "    'type': \"bar\",    # define type of chart\n",
    "    'x': repo_names,  # set x_axis data\n",
    "    'y': stars,       # set y)axis data\n",
    "}]\n",
    "    \n",
    "\"\"\"create chart layout\"\"\"\n",
    "my_layout = {                                          # create layout with dictionary format\n",
    "    'title': 'Most-Starred Python Projects on Github', # set title\n",
    "    'xaxis': {'title': 'Repository'},                  # x axis title\n",
    "    'yaxis': {'title': 'Stars'},                       # y axis title\n",
    "}\n",
    "    \n",
    "\"\"\"create visualization\"\"\"\n",
    "fig = {'data': data, 'layout': my_layout} # create figure with data and layout\n",
    "offline.iplot(fig, filename='python_repos.html') # create visualization window"
   ]
  },
  {
   "cell_type": "code",
   "execution_count": 12,
   "metadata": {},
   "outputs": [
    {
     "data": {
      "application/vnd.plotly.v1+json": {
       "config": {
        "linkText": "Export to plot.ly",
        "plotlyServerURL": "https://plot.ly",
        "showLink": false
       },
       "data": [
        {
         "marker": {
          "color": "rgb(60, 100, 150)",
          "line": {
           "color": "rgb(25, 25, 25)",
           "width": 1.5
          }
         },
         "opacity": 0.6,
         "type": "bar",
         "x": [
          "system-design-primer",
          "public-apis",
          "Python-100-Days",
          "Python",
          "awesome-python",
          "youtube-dl",
          "models",
          "thefuck",
          "django",
          "flask",
          "keras",
          "httpie",
          "awesome-machine-learning",
          "ansible",
          "requests",
          "scikit-learn",
          "scrapy",
          "big-list-of-naughty-strings",
          "transformers",
          "face_recognition",
          "HelloGitHub",
          "faceswap",
          "shadowsocks",
          "incubator-superset",
          "XX-Net",
          "interview_internal_reference",
          "CppCoreGuidelines",
          "Deep-Learning-Papers-Reading-Roadmap",
          "AiLearning",
          "pandas"
         ],
         "y": [
          116854,
          106504,
          97707,
          96611,
          91939,
          86360,
          68111,
          58194,
          54681,
          53361,
          50430,
          49337,
          47734,
          46297,
          44265,
          43578,
          39334,
          38889,
          38772,
          37934,
          35872,
          33767,
          32898,
          31704,
          30510,
          29859,
          29551,
          29005,
          28449,
          27871
         ]
        }
       ],
       "layout": {
        "template": {
         "data": {
          "bar": [
           {
            "error_x": {
             "color": "#2a3f5f"
            },
            "error_y": {
             "color": "#2a3f5f"
            },
            "marker": {
             "line": {
              "color": "#E5ECF6",
              "width": 0.5
             }
            },
            "type": "bar"
           }
          ],
          "barpolar": [
           {
            "marker": {
             "line": {
              "color": "#E5ECF6",
              "width": 0.5
             }
            },
            "type": "barpolar"
           }
          ],
          "carpet": [
           {
            "aaxis": {
             "endlinecolor": "#2a3f5f",
             "gridcolor": "white",
             "linecolor": "white",
             "minorgridcolor": "white",
             "startlinecolor": "#2a3f5f"
            },
            "baxis": {
             "endlinecolor": "#2a3f5f",
             "gridcolor": "white",
             "linecolor": "white",
             "minorgridcolor": "white",
             "startlinecolor": "#2a3f5f"
            },
            "type": "carpet"
           }
          ],
          "choropleth": [
           {
            "colorbar": {
             "outlinewidth": 0,
             "ticks": ""
            },
            "type": "choropleth"
           }
          ],
          "contour": [
           {
            "colorbar": {
             "outlinewidth": 0,
             "ticks": ""
            },
            "colorscale": [
             [
              0,
              "#0d0887"
             ],
             [
              0.1111111111111111,
              "#46039f"
             ],
             [
              0.2222222222222222,
              "#7201a8"
             ],
             [
              0.3333333333333333,
              "#9c179e"
             ],
             [
              0.4444444444444444,
              "#bd3786"
             ],
             [
              0.5555555555555556,
              "#d8576b"
             ],
             [
              0.6666666666666666,
              "#ed7953"
             ],
             [
              0.7777777777777778,
              "#fb9f3a"
             ],
             [
              0.8888888888888888,
              "#fdca26"
             ],
             [
              1,
              "#f0f921"
             ]
            ],
            "type": "contour"
           }
          ],
          "contourcarpet": [
           {
            "colorbar": {
             "outlinewidth": 0,
             "ticks": ""
            },
            "type": "contourcarpet"
           }
          ],
          "heatmap": [
           {
            "colorbar": {
             "outlinewidth": 0,
             "ticks": ""
            },
            "colorscale": [
             [
              0,
              "#0d0887"
             ],
             [
              0.1111111111111111,
              "#46039f"
             ],
             [
              0.2222222222222222,
              "#7201a8"
             ],
             [
              0.3333333333333333,
              "#9c179e"
             ],
             [
              0.4444444444444444,
              "#bd3786"
             ],
             [
              0.5555555555555556,
              "#d8576b"
             ],
             [
              0.6666666666666666,
              "#ed7953"
             ],
             [
              0.7777777777777778,
              "#fb9f3a"
             ],
             [
              0.8888888888888888,
              "#fdca26"
             ],
             [
              1,
              "#f0f921"
             ]
            ],
            "type": "heatmap"
           }
          ],
          "heatmapgl": [
           {
            "colorbar": {
             "outlinewidth": 0,
             "ticks": ""
            },
            "colorscale": [
             [
              0,
              "#0d0887"
             ],
             [
              0.1111111111111111,
              "#46039f"
             ],
             [
              0.2222222222222222,
              "#7201a8"
             ],
             [
              0.3333333333333333,
              "#9c179e"
             ],
             [
              0.4444444444444444,
              "#bd3786"
             ],
             [
              0.5555555555555556,
              "#d8576b"
             ],
             [
              0.6666666666666666,
              "#ed7953"
             ],
             [
              0.7777777777777778,
              "#fb9f3a"
             ],
             [
              0.8888888888888888,
              "#fdca26"
             ],
             [
              1,
              "#f0f921"
             ]
            ],
            "type": "heatmapgl"
           }
          ],
          "histogram": [
           {
            "marker": {
             "colorbar": {
              "outlinewidth": 0,
              "ticks": ""
             }
            },
            "type": "histogram"
           }
          ],
          "histogram2d": [
           {
            "colorbar": {
             "outlinewidth": 0,
             "ticks": ""
            },
            "colorscale": [
             [
              0,
              "#0d0887"
             ],
             [
              0.1111111111111111,
              "#46039f"
             ],
             [
              0.2222222222222222,
              "#7201a8"
             ],
             [
              0.3333333333333333,
              "#9c179e"
             ],
             [
              0.4444444444444444,
              "#bd3786"
             ],
             [
              0.5555555555555556,
              "#d8576b"
             ],
             [
              0.6666666666666666,
              "#ed7953"
             ],
             [
              0.7777777777777778,
              "#fb9f3a"
             ],
             [
              0.8888888888888888,
              "#fdca26"
             ],
             [
              1,
              "#f0f921"
             ]
            ],
            "type": "histogram2d"
           }
          ],
          "histogram2dcontour": [
           {
            "colorbar": {
             "outlinewidth": 0,
             "ticks": ""
            },
            "colorscale": [
             [
              0,
              "#0d0887"
             ],
             [
              0.1111111111111111,
              "#46039f"
             ],
             [
              0.2222222222222222,
              "#7201a8"
             ],
             [
              0.3333333333333333,
              "#9c179e"
             ],
             [
              0.4444444444444444,
              "#bd3786"
             ],
             [
              0.5555555555555556,
              "#d8576b"
             ],
             [
              0.6666666666666666,
              "#ed7953"
             ],
             [
              0.7777777777777778,
              "#fb9f3a"
             ],
             [
              0.8888888888888888,
              "#fdca26"
             ],
             [
              1,
              "#f0f921"
             ]
            ],
            "type": "histogram2dcontour"
           }
          ],
          "mesh3d": [
           {
            "colorbar": {
             "outlinewidth": 0,
             "ticks": ""
            },
            "type": "mesh3d"
           }
          ],
          "parcoords": [
           {
            "line": {
             "colorbar": {
              "outlinewidth": 0,
              "ticks": ""
             }
            },
            "type": "parcoords"
           }
          ],
          "pie": [
           {
            "automargin": true,
            "type": "pie"
           }
          ],
          "scatter": [
           {
            "marker": {
             "colorbar": {
              "outlinewidth": 0,
              "ticks": ""
             }
            },
            "type": "scatter"
           }
          ],
          "scatter3d": [
           {
            "line": {
             "colorbar": {
              "outlinewidth": 0,
              "ticks": ""
             }
            },
            "marker": {
             "colorbar": {
              "outlinewidth": 0,
              "ticks": ""
             }
            },
            "type": "scatter3d"
           }
          ],
          "scattercarpet": [
           {
            "marker": {
             "colorbar": {
              "outlinewidth": 0,
              "ticks": ""
             }
            },
            "type": "scattercarpet"
           }
          ],
          "scattergeo": [
           {
            "marker": {
             "colorbar": {
              "outlinewidth": 0,
              "ticks": ""
             }
            },
            "type": "scattergeo"
           }
          ],
          "scattergl": [
           {
            "marker": {
             "colorbar": {
              "outlinewidth": 0,
              "ticks": ""
             }
            },
            "type": "scattergl"
           }
          ],
          "scattermapbox": [
           {
            "marker": {
             "colorbar": {
              "outlinewidth": 0,
              "ticks": ""
             }
            },
            "type": "scattermapbox"
           }
          ],
          "scatterpolar": [
           {
            "marker": {
             "colorbar": {
              "outlinewidth": 0,
              "ticks": ""
             }
            },
            "type": "scatterpolar"
           }
          ],
          "scatterpolargl": [
           {
            "marker": {
             "colorbar": {
              "outlinewidth": 0,
              "ticks": ""
             }
            },
            "type": "scatterpolargl"
           }
          ],
          "scatterternary": [
           {
            "marker": {
             "colorbar": {
              "outlinewidth": 0,
              "ticks": ""
             }
            },
            "type": "scatterternary"
           }
          ],
          "surface": [
           {
            "colorbar": {
             "outlinewidth": 0,
             "ticks": ""
            },
            "colorscale": [
             [
              0,
              "#0d0887"
             ],
             [
              0.1111111111111111,
              "#46039f"
             ],
             [
              0.2222222222222222,
              "#7201a8"
             ],
             [
              0.3333333333333333,
              "#9c179e"
             ],
             [
              0.4444444444444444,
              "#bd3786"
             ],
             [
              0.5555555555555556,
              "#d8576b"
             ],
             [
              0.6666666666666666,
              "#ed7953"
             ],
             [
              0.7777777777777778,
              "#fb9f3a"
             ],
             [
              0.8888888888888888,
              "#fdca26"
             ],
             [
              1,
              "#f0f921"
             ]
            ],
            "type": "surface"
           }
          ],
          "table": [
           {
            "cells": {
             "fill": {
              "color": "#EBF0F8"
             },
             "line": {
              "color": "white"
             }
            },
            "header": {
             "fill": {
              "color": "#C8D4E3"
             },
             "line": {
              "color": "white"
             }
            },
            "type": "table"
           }
          ]
         },
         "layout": {
          "annotationdefaults": {
           "arrowcolor": "#2a3f5f",
           "arrowhead": 0,
           "arrowwidth": 1
          },
          "autotypenumbers": "strict",
          "coloraxis": {
           "colorbar": {
            "outlinewidth": 0,
            "ticks": ""
           }
          },
          "colorscale": {
           "diverging": [
            [
             0,
             "#8e0152"
            ],
            [
             0.1,
             "#c51b7d"
            ],
            [
             0.2,
             "#de77ae"
            ],
            [
             0.3,
             "#f1b6da"
            ],
            [
             0.4,
             "#fde0ef"
            ],
            [
             0.5,
             "#f7f7f7"
            ],
            [
             0.6,
             "#e6f5d0"
            ],
            [
             0.7,
             "#b8e186"
            ],
            [
             0.8,
             "#7fbc41"
            ],
            [
             0.9,
             "#4d9221"
            ],
            [
             1,
             "#276419"
            ]
           ],
           "sequential": [
            [
             0,
             "#0d0887"
            ],
            [
             0.1111111111111111,
             "#46039f"
            ],
            [
             0.2222222222222222,
             "#7201a8"
            ],
            [
             0.3333333333333333,
             "#9c179e"
            ],
            [
             0.4444444444444444,
             "#bd3786"
            ],
            [
             0.5555555555555556,
             "#d8576b"
            ],
            [
             0.6666666666666666,
             "#ed7953"
            ],
            [
             0.7777777777777778,
             "#fb9f3a"
            ],
            [
             0.8888888888888888,
             "#fdca26"
            ],
            [
             1,
             "#f0f921"
            ]
           ],
           "sequentialminus": [
            [
             0,
             "#0d0887"
            ],
            [
             0.1111111111111111,
             "#46039f"
            ],
            [
             0.2222222222222222,
             "#7201a8"
            ],
            [
             0.3333333333333333,
             "#9c179e"
            ],
            [
             0.4444444444444444,
             "#bd3786"
            ],
            [
             0.5555555555555556,
             "#d8576b"
            ],
            [
             0.6666666666666666,
             "#ed7953"
            ],
            [
             0.7777777777777778,
             "#fb9f3a"
            ],
            [
             0.8888888888888888,
             "#fdca26"
            ],
            [
             1,
             "#f0f921"
            ]
           ]
          },
          "colorway": [
           "#636efa",
           "#EF553B",
           "#00cc96",
           "#ab63fa",
           "#FFA15A",
           "#19d3f3",
           "#FF6692",
           "#B6E880",
           "#FF97FF",
           "#FECB52"
          ],
          "font": {
           "color": "#2a3f5f"
          },
          "geo": {
           "bgcolor": "white",
           "lakecolor": "white",
           "landcolor": "#E5ECF6",
           "showlakes": true,
           "showland": true,
           "subunitcolor": "white"
          },
          "hoverlabel": {
           "align": "left"
          },
          "hovermode": "closest",
          "mapbox": {
           "style": "light"
          },
          "paper_bgcolor": "white",
          "plot_bgcolor": "#E5ECF6",
          "polar": {
           "angularaxis": {
            "gridcolor": "white",
            "linecolor": "white",
            "ticks": ""
           },
           "bgcolor": "#E5ECF6",
           "radialaxis": {
            "gridcolor": "white",
            "linecolor": "white",
            "ticks": ""
           }
          },
          "scene": {
           "xaxis": {
            "backgroundcolor": "#E5ECF6",
            "gridcolor": "white",
            "gridwidth": 2,
            "linecolor": "white",
            "showbackground": true,
            "ticks": "",
            "zerolinecolor": "white"
           },
           "yaxis": {
            "backgroundcolor": "#E5ECF6",
            "gridcolor": "white",
            "gridwidth": 2,
            "linecolor": "white",
            "showbackground": true,
            "ticks": "",
            "zerolinecolor": "white"
           },
           "zaxis": {
            "backgroundcolor": "#E5ECF6",
            "gridcolor": "white",
            "gridwidth": 2,
            "linecolor": "white",
            "showbackground": true,
            "ticks": "",
            "zerolinecolor": "white"
           }
          },
          "shapedefaults": {
           "line": {
            "color": "#2a3f5f"
           }
          },
          "ternary": {
           "aaxis": {
            "gridcolor": "white",
            "linecolor": "white",
            "ticks": ""
           },
           "baxis": {
            "gridcolor": "white",
            "linecolor": "white",
            "ticks": ""
           },
           "bgcolor": "#E5ECF6",
           "caxis": {
            "gridcolor": "white",
            "linecolor": "white",
            "ticks": ""
           }
          },
          "title": {
           "x": 0.05
          },
          "xaxis": {
           "automargin": true,
           "gridcolor": "white",
           "linecolor": "white",
           "ticks": "",
           "title": {
            "standoff": 15
           },
           "zerolinecolor": "white",
           "zerolinewidth": 2
          },
          "yaxis": {
           "automargin": true,
           "gridcolor": "white",
           "linecolor": "white",
           "ticks": "",
           "title": {
            "standoff": 15
           },
           "zerolinecolor": "white",
           "zerolinewidth": 2
          }
         }
        },
        "title": {
         "font": {
          "size": 28
         },
         "text": "Most-Starred Python Projects on Github"
        },
        "xaxis": {
         "tickfont": {
          "size": 14
         },
         "title": {
          "font": {
           "size": 24
          },
          "text": "Repository"
         }
        },
        "yaxis": {
         "tickfont": {
          "size": 14
         },
         "title": {
          "font": {
           "size": 24
          },
          "text": "Stars"
         }
        }
       }
      },
      "text/html": [
       "<div>                            <div id=\"01ff057a-65ba-4d64-8b5d-a2acb890c118\" class=\"plotly-graph-div\" style=\"height:525px; width:100%;\"></div>            <script type=\"text/javascript\">                require([\"plotly\"], function(Plotly) {                    window.PLOTLYENV=window.PLOTLYENV || {};                                    if (document.getElementById(\"01ff057a-65ba-4d64-8b5d-a2acb890c118\")) {                    Plotly.newPlot(                        \"01ff057a-65ba-4d64-8b5d-a2acb890c118\",                        [{\"marker\": {\"color\": \"rgb(60, 100, 150)\", \"line\": {\"color\": \"rgb(25, 25, 25)\", \"width\": 1.5}}, \"opacity\": 0.6, \"type\": \"bar\", \"x\": [\"system-design-primer\", \"public-apis\", \"Python-100-Days\", \"Python\", \"awesome-python\", \"youtube-dl\", \"models\", \"thefuck\", \"django\", \"flask\", \"keras\", \"httpie\", \"awesome-machine-learning\", \"ansible\", \"requests\", \"scikit-learn\", \"scrapy\", \"big-list-of-naughty-strings\", \"transformers\", \"face_recognition\", \"HelloGitHub\", \"faceswap\", \"shadowsocks\", \"incubator-superset\", \"XX-Net\", \"interview_internal_reference\", \"CppCoreGuidelines\", \"Deep-Learning-Papers-Reading-Roadmap\", \"AiLearning\", \"pandas\"], \"y\": [116854, 106504, 97707, 96611, 91939, 86360, 68111, 58194, 54681, 53361, 50430, 49337, 47734, 46297, 44265, 43578, 39334, 38889, 38772, 37934, 35872, 33767, 32898, 31704, 30510, 29859, 29551, 29005, 28449, 27871]}],                        {\"template\": {\"data\": {\"bar\": [{\"error_x\": {\"color\": \"#2a3f5f\"}, \"error_y\": {\"color\": \"#2a3f5f\"}, \"marker\": {\"line\": {\"color\": \"#E5ECF6\", \"width\": 0.5}}, \"type\": \"bar\"}], \"barpolar\": [{\"marker\": {\"line\": {\"color\": \"#E5ECF6\", \"width\": 0.5}}, \"type\": \"barpolar\"}], \"carpet\": [{\"aaxis\": {\"endlinecolor\": \"#2a3f5f\", \"gridcolor\": \"white\", \"linecolor\": \"white\", \"minorgridcolor\": \"white\", \"startlinecolor\": \"#2a3f5f\"}, \"baxis\": {\"endlinecolor\": \"#2a3f5f\", \"gridcolor\": \"white\", \"linecolor\": \"white\", \"minorgridcolor\": \"white\", \"startlinecolor\": \"#2a3f5f\"}, \"type\": \"carpet\"}], \"choropleth\": [{\"colorbar\": {\"outlinewidth\": 0, \"ticks\": \"\"}, \"type\": \"choropleth\"}], \"contour\": [{\"colorbar\": {\"outlinewidth\": 0, \"ticks\": \"\"}, \"colorscale\": [[0.0, \"#0d0887\"], [0.1111111111111111, \"#46039f\"], [0.2222222222222222, \"#7201a8\"], [0.3333333333333333, \"#9c179e\"], [0.4444444444444444, \"#bd3786\"], [0.5555555555555556, \"#d8576b\"], [0.6666666666666666, \"#ed7953\"], [0.7777777777777778, \"#fb9f3a\"], [0.8888888888888888, \"#fdca26\"], [1.0, \"#f0f921\"]], \"type\": \"contour\"}], \"contourcarpet\": [{\"colorbar\": {\"outlinewidth\": 0, \"ticks\": \"\"}, \"type\": \"contourcarpet\"}], \"heatmap\": [{\"colorbar\": {\"outlinewidth\": 0, \"ticks\": \"\"}, \"colorscale\": [[0.0, \"#0d0887\"], [0.1111111111111111, \"#46039f\"], [0.2222222222222222, \"#7201a8\"], [0.3333333333333333, \"#9c179e\"], [0.4444444444444444, \"#bd3786\"], [0.5555555555555556, \"#d8576b\"], [0.6666666666666666, \"#ed7953\"], [0.7777777777777778, \"#fb9f3a\"], [0.8888888888888888, \"#fdca26\"], [1.0, \"#f0f921\"]], \"type\": \"heatmap\"}], \"heatmapgl\": [{\"colorbar\": {\"outlinewidth\": 0, \"ticks\": \"\"}, \"colorscale\": [[0.0, \"#0d0887\"], [0.1111111111111111, \"#46039f\"], [0.2222222222222222, \"#7201a8\"], [0.3333333333333333, \"#9c179e\"], [0.4444444444444444, \"#bd3786\"], [0.5555555555555556, \"#d8576b\"], [0.6666666666666666, \"#ed7953\"], [0.7777777777777778, \"#fb9f3a\"], [0.8888888888888888, \"#fdca26\"], [1.0, \"#f0f921\"]], \"type\": \"heatmapgl\"}], \"histogram\": [{\"marker\": {\"colorbar\": {\"outlinewidth\": 0, \"ticks\": \"\"}}, \"type\": \"histogram\"}], \"histogram2d\": [{\"colorbar\": {\"outlinewidth\": 0, \"ticks\": \"\"}, \"colorscale\": [[0.0, \"#0d0887\"], [0.1111111111111111, \"#46039f\"], [0.2222222222222222, \"#7201a8\"], [0.3333333333333333, \"#9c179e\"], [0.4444444444444444, \"#bd3786\"], [0.5555555555555556, \"#d8576b\"], [0.6666666666666666, \"#ed7953\"], [0.7777777777777778, \"#fb9f3a\"], [0.8888888888888888, \"#fdca26\"], [1.0, \"#f0f921\"]], \"type\": \"histogram2d\"}], \"histogram2dcontour\": [{\"colorbar\": {\"outlinewidth\": 0, \"ticks\": \"\"}, \"colorscale\": [[0.0, \"#0d0887\"], [0.1111111111111111, \"#46039f\"], [0.2222222222222222, \"#7201a8\"], [0.3333333333333333, \"#9c179e\"], [0.4444444444444444, \"#bd3786\"], [0.5555555555555556, \"#d8576b\"], [0.6666666666666666, \"#ed7953\"], [0.7777777777777778, \"#fb9f3a\"], [0.8888888888888888, \"#fdca26\"], [1.0, \"#f0f921\"]], \"type\": \"histogram2dcontour\"}], \"mesh3d\": [{\"colorbar\": {\"outlinewidth\": 0, \"ticks\": \"\"}, \"type\": \"mesh3d\"}], \"parcoords\": [{\"line\": {\"colorbar\": {\"outlinewidth\": 0, \"ticks\": \"\"}}, \"type\": \"parcoords\"}], \"pie\": [{\"automargin\": true, \"type\": \"pie\"}], \"scatter\": [{\"marker\": {\"colorbar\": {\"outlinewidth\": 0, \"ticks\": \"\"}}, \"type\": \"scatter\"}], \"scatter3d\": [{\"line\": {\"colorbar\": {\"outlinewidth\": 0, \"ticks\": \"\"}}, \"marker\": {\"colorbar\": {\"outlinewidth\": 0, \"ticks\": \"\"}}, \"type\": \"scatter3d\"}], \"scattercarpet\": [{\"marker\": {\"colorbar\": {\"outlinewidth\": 0, \"ticks\": \"\"}}, \"type\": \"scattercarpet\"}], \"scattergeo\": [{\"marker\": {\"colorbar\": {\"outlinewidth\": 0, \"ticks\": \"\"}}, \"type\": \"scattergeo\"}], \"scattergl\": [{\"marker\": {\"colorbar\": {\"outlinewidth\": 0, \"ticks\": \"\"}}, \"type\": \"scattergl\"}], \"scattermapbox\": [{\"marker\": {\"colorbar\": {\"outlinewidth\": 0, \"ticks\": \"\"}}, \"type\": \"scattermapbox\"}], \"scatterpolar\": [{\"marker\": {\"colorbar\": {\"outlinewidth\": 0, \"ticks\": \"\"}}, \"type\": \"scatterpolar\"}], \"scatterpolargl\": [{\"marker\": {\"colorbar\": {\"outlinewidth\": 0, \"ticks\": \"\"}}, \"type\": \"scatterpolargl\"}], \"scatterternary\": [{\"marker\": {\"colorbar\": {\"outlinewidth\": 0, \"ticks\": \"\"}}, \"type\": \"scatterternary\"}], \"surface\": [{\"colorbar\": {\"outlinewidth\": 0, \"ticks\": \"\"}, \"colorscale\": [[0.0, \"#0d0887\"], [0.1111111111111111, \"#46039f\"], [0.2222222222222222, \"#7201a8\"], [0.3333333333333333, \"#9c179e\"], [0.4444444444444444, \"#bd3786\"], [0.5555555555555556, \"#d8576b\"], [0.6666666666666666, \"#ed7953\"], [0.7777777777777778, \"#fb9f3a\"], [0.8888888888888888, \"#fdca26\"], [1.0, \"#f0f921\"]], \"type\": \"surface\"}], \"table\": [{\"cells\": {\"fill\": {\"color\": \"#EBF0F8\"}, \"line\": {\"color\": \"white\"}}, \"header\": {\"fill\": {\"color\": \"#C8D4E3\"}, \"line\": {\"color\": \"white\"}}, \"type\": \"table\"}]}, \"layout\": {\"annotationdefaults\": {\"arrowcolor\": \"#2a3f5f\", \"arrowhead\": 0, \"arrowwidth\": 1}, \"autotypenumbers\": \"strict\", \"coloraxis\": {\"colorbar\": {\"outlinewidth\": 0, \"ticks\": \"\"}}, \"colorscale\": {\"diverging\": [[0, \"#8e0152\"], [0.1, \"#c51b7d\"], [0.2, \"#de77ae\"], [0.3, \"#f1b6da\"], [0.4, \"#fde0ef\"], [0.5, \"#f7f7f7\"], [0.6, \"#e6f5d0\"], [0.7, \"#b8e186\"], [0.8, \"#7fbc41\"], [0.9, \"#4d9221\"], [1, \"#276419\"]], \"sequential\": [[0.0, \"#0d0887\"], [0.1111111111111111, \"#46039f\"], [0.2222222222222222, \"#7201a8\"], [0.3333333333333333, \"#9c179e\"], [0.4444444444444444, \"#bd3786\"], [0.5555555555555556, \"#d8576b\"], [0.6666666666666666, \"#ed7953\"], [0.7777777777777778, \"#fb9f3a\"], [0.8888888888888888, \"#fdca26\"], [1.0, \"#f0f921\"]], \"sequentialminus\": [[0.0, \"#0d0887\"], [0.1111111111111111, \"#46039f\"], [0.2222222222222222, \"#7201a8\"], [0.3333333333333333, \"#9c179e\"], [0.4444444444444444, \"#bd3786\"], [0.5555555555555556, \"#d8576b\"], [0.6666666666666666, \"#ed7953\"], [0.7777777777777778, \"#fb9f3a\"], [0.8888888888888888, \"#fdca26\"], [1.0, \"#f0f921\"]]}, \"colorway\": [\"#636efa\", \"#EF553B\", \"#00cc96\", \"#ab63fa\", \"#FFA15A\", \"#19d3f3\", \"#FF6692\", \"#B6E880\", \"#FF97FF\", \"#FECB52\"], \"font\": {\"color\": \"#2a3f5f\"}, \"geo\": {\"bgcolor\": \"white\", \"lakecolor\": \"white\", \"landcolor\": \"#E5ECF6\", \"showlakes\": true, \"showland\": true, \"subunitcolor\": \"white\"}, \"hoverlabel\": {\"align\": \"left\"}, \"hovermode\": \"closest\", \"mapbox\": {\"style\": \"light\"}, \"paper_bgcolor\": \"white\", \"plot_bgcolor\": \"#E5ECF6\", \"polar\": {\"angularaxis\": {\"gridcolor\": \"white\", \"linecolor\": \"white\", \"ticks\": \"\"}, \"bgcolor\": \"#E5ECF6\", \"radialaxis\": {\"gridcolor\": \"white\", \"linecolor\": \"white\", \"ticks\": \"\"}}, \"scene\": {\"xaxis\": {\"backgroundcolor\": \"#E5ECF6\", \"gridcolor\": \"white\", \"gridwidth\": 2, \"linecolor\": \"white\", \"showbackground\": true, \"ticks\": \"\", \"zerolinecolor\": \"white\"}, \"yaxis\": {\"backgroundcolor\": \"#E5ECF6\", \"gridcolor\": \"white\", \"gridwidth\": 2, \"linecolor\": \"white\", \"showbackground\": true, \"ticks\": \"\", \"zerolinecolor\": \"white\"}, \"zaxis\": {\"backgroundcolor\": \"#E5ECF6\", \"gridcolor\": \"white\", \"gridwidth\": 2, \"linecolor\": \"white\", \"showbackground\": true, \"ticks\": \"\", \"zerolinecolor\": \"white\"}}, \"shapedefaults\": {\"line\": {\"color\": \"#2a3f5f\"}}, \"ternary\": {\"aaxis\": {\"gridcolor\": \"white\", \"linecolor\": \"white\", \"ticks\": \"\"}, \"baxis\": {\"gridcolor\": \"white\", \"linecolor\": \"white\", \"ticks\": \"\"}, \"bgcolor\": \"#E5ECF6\", \"caxis\": {\"gridcolor\": \"white\", \"linecolor\": \"white\", \"ticks\": \"\"}}, \"title\": {\"x\": 0.05}, \"xaxis\": {\"automargin\": true, \"gridcolor\": \"white\", \"linecolor\": \"white\", \"ticks\": \"\", \"title\": {\"standoff\": 15}, \"zerolinecolor\": \"white\", \"zerolinewidth\": 2}, \"yaxis\": {\"automargin\": true, \"gridcolor\": \"white\", \"linecolor\": \"white\", \"ticks\": \"\", \"title\": {\"standoff\": 15}, \"zerolinecolor\": \"white\", \"zerolinewidth\": 2}}}, \"title\": {\"font\": {\"size\": 28}, \"text\": \"Most-Starred Python Projects on Github\"}, \"xaxis\": {\"tickfont\": {\"size\": 14}, \"title\": {\"font\": {\"size\": 24}, \"text\": \"Repository\"}}, \"yaxis\": {\"tickfont\": {\"size\": 14}, \"title\": {\"font\": {\"size\": 24}, \"text\": \"Stars\"}}},                        {\"responsive\": true}                    ).then(function(){\n",
       "                            \n",
       "var gd = document.getElementById('01ff057a-65ba-4d64-8b5d-a2acb890c118');\n",
       "var x = new MutationObserver(function (mutations, observer) {{\n",
       "        var display = window.getComputedStyle(gd).display;\n",
       "        if (!display || display === 'none') {{\n",
       "            console.log([gd, 'removed!']);\n",
       "            Plotly.purge(gd);\n",
       "            observer.disconnect();\n",
       "        }}\n",
       "}});\n",
       "\n",
       "// Listen for the removal of the full notebook cells\n",
       "var notebookContainer = gd.closest('#notebook-container');\n",
       "if (notebookContainer) {{\n",
       "    x.observe(notebookContainer, {childList: true});\n",
       "}}\n",
       "\n",
       "// Listen for the clearing of the current output cell\n",
       "var outputEl = gd.closest('.output');\n",
       "if (outputEl) {{\n",
       "    x.observe(outputEl, {childList: true});\n",
       "}}\n",
       "\n",
       "                        })                };                });            </script>        </div>"
      ]
     },
     "metadata": {},
     "output_type": "display_data"
    }
   ],
   "source": [
    "\"\"\"refining the chart\"\"\"\n",
    "\n",
    "from plotly.graph_objs import Bar # import plotly bar chart\n",
    "from plotly import offline # import offline charting\n",
    "\n",
    "\"\"\"extract data to be plotted\"\"\"\n",
    "repo_names, stars = [], [] # create to empty lists for names and number of stars\n",
    "for repo_dict in repo_dicts: # for loop looking at each dictionary\n",
    "    repo_names.append(repo_dict['name']) # add name of dictionary to repo_names list\n",
    "    stars.append(repo_dict['stargazers_count']) # add number of stars to stars list\n",
    "    \n",
    "\"\"\"define data in plot\"\"\"\n",
    "data = [{             # data to be plotted\n",
    "    'type': \"bar\",    # define type of chart\n",
    "    'x': repo_names,  # set x_axis data\n",
    "    'y': stars,       # set y)axis data\n",
    "    'marker': {       # set markers\n",
    "        'color': 'rgb(60, 100, 150)',                      # set marker color\n",
    "        'line': {'width': 1.5, 'color': 'rgb(25, 25, 25)'} # set line width and color\n",
    "    },\n",
    "    'opacity': 0.6,   # set opacity of bars\n",
    "}]\n",
    "    \n",
    "\"\"\"create chart layout\"\"\"\n",
    "my_layout = {                                          # create layout\n",
    "    'title': 'Most-Starred Python Projects on Github', # set title\n",
    "    'titlefont': {'size': 28},                         # set title font\n",
    "    'xaxis': {                                         # xaxis\n",
    "        'title': 'Repository',                             # x axis title\n",
    "        'titlefont': {'size': 24},                         # x axis titlefont\n",
    "        'tickfont': {'size': 14},                          # x axis tick font\n",
    "    },                        \n",
    "    'yaxis': {                                         # y axis\n",
    "        'title': 'Stars',                                  # y axis title\n",
    "        'titlefont': {'size': 24},                         # y axis font\n",
    "        'tickfont': {'size': 14},                          # y axis tickfont\n",
    "    },                       \n",
    "}\n",
    "    \n",
    "\"\"\"create visualization\"\"\"\n",
    "fig = {'data': data, 'layout': my_layout} # create figure with data and layout\n",
    "offline.iplot(fig, filename='python_repos.html') # create visualization window\n"
   ]
  },
  {
   "cell_type": "code",
   "execution_count": 13,
   "metadata": {},
   "outputs": [
    {
     "data": {
      "application/vnd.plotly.v1+json": {
       "config": {
        "linkText": "Export to plot.ly",
        "plotlyServerURL": "https://plot.ly",
        "showLink": false
       },
       "data": [
        {
         "hovertext": [
          "donnemartin<br />Learn how to design large-scale systems. Prep for the system design interview.  Includes Anki flashcards.",
          "public-apis<br />A collective list of free APIs for use in software and web development.",
          "jackfrued<br />Python - 100天从新手到大师",
          "TheAlgorithms<br />All Algorithms implemented in Python",
          "vinta<br />A curated list of awesome Python frameworks, libraries, software and resources",
          "ytdl-org<br />Command-line program to download videos from YouTube.com and other video sites",
          "tensorflow<br />Models and examples built with TensorFlow",
          "nvbn<br />Magnificent app which corrects your previous console command.",
          "django<br />The Web framework for perfectionists with deadlines.",
          "pallets<br />The Python micro framework for building web applications.",
          "keras-team<br />Deep Learning for humans",
          "httpie<br />As easy as /aitch-tee-tee-pie/ 🥧 Modern, user-friendly command-line HTTP client for the API era. JSON support, colors, sessions, downloads, plugins & more. https://twitter.com/httpie",
          "josephmisiti<br />A curated list of awesome Machine Learning frameworks, libraries and software.",
          "ansible<br />Ansible is a radically simple IT automation platform that makes your applications and systems easier to deploy and maintain. Automate everything from code deployment to network configuration to cloud management, in a language that approaches plain English, using SSH, with no agents to install on remote systems. https://docs.ansible.com.",
          "psf<br />A simple, yet elegant HTTP library.",
          "scikit-learn<br />scikit-learn: machine learning in Python",
          "scrapy<br />Scrapy, a fast high-level web crawling & scraping framework for Python.",
          "minimaxir<br />The Big List of Naughty Strings is a list of strings which have a high probability of causing issues when used as user-input data.",
          "huggingface<br />🤗Transformers: State-of-the-art Natural Language Processing for Pytorch and TensorFlow 2.0.",
          "ageitgey<br />The world's simplest facial recognition api for Python and the command line",
          "521xueweihan<br />:octocat: Find pearls on open-source seashore 分享 GitHub 上有趣、入门级的开源项目",
          "deepfakes<br />Deepfakes Software For All",
          "shadowsocks<br />None",
          "apache<br />Apache Superset is a Data Visualization and Data Exploration Platform",
          "XX-net<br />A proxy tool to bypass GFW.",
          "0voice<br />2020年最新总结，阿里，腾讯，百度，美团，头条等技术面试题目，以及答案，专家出题人分析汇总。",
          "isocpp<br />The C++ Core Guidelines are a set of tried-and-true guidelines, rules, and best practices about coding in C++",
          "floodsung<br />Deep Learning papers reading roadmap for anyone who are eager to learn this amazing tech!",
          "apachecn<br />AiLearning: 机器学习 - MachineLearning - ML、深度学习 - DeepLearning - DL、自然语言处理 NLP",
          "pandas-dev<br />Flexible and powerful data analysis / manipulation library for Python, providing labeled data structures similar to R data.frame objects, statistical functions, and much more"
         ],
         "marker": {
          "color": "rgb(60, 100, 150)",
          "line": {
           "color": "rgb(25, 25, 25)",
           "width": 1.5
          }
         },
         "opacity": 0.6,
         "type": "bar",
         "x": [
          "<a href='https://github.com/donnemartin/system-design-primer'>system-design-primer</a>",
          "<a href='https://github.com/public-apis/public-apis'>public-apis</a>",
          "<a href='https://github.com/jackfrued/Python-100-Days'>Python-100-Days</a>",
          "<a href='https://github.com/TheAlgorithms/Python'>Python</a>",
          "<a href='https://github.com/vinta/awesome-python'>awesome-python</a>",
          "<a href='https://github.com/ytdl-org/youtube-dl'>youtube-dl</a>",
          "<a href='https://github.com/tensorflow/models'>models</a>",
          "<a href='https://github.com/nvbn/thefuck'>thefuck</a>",
          "<a href='https://github.com/django/django'>django</a>",
          "<a href='https://github.com/pallets/flask'>flask</a>",
          "<a href='https://github.com/keras-team/keras'>keras</a>",
          "<a href='https://github.com/httpie/httpie'>httpie</a>",
          "<a href='https://github.com/josephmisiti/awesome-machine-learning'>awesome-machine-learning</a>",
          "<a href='https://github.com/ansible/ansible'>ansible</a>",
          "<a href='https://github.com/psf/requests'>requests</a>",
          "<a href='https://github.com/scikit-learn/scikit-learn'>scikit-learn</a>",
          "<a href='https://github.com/scrapy/scrapy'>scrapy</a>",
          "<a href='https://github.com/minimaxir/big-list-of-naughty-strings'>big-list-of-naughty-strings</a>",
          "<a href='https://github.com/huggingface/transformers'>transformers</a>",
          "<a href='https://github.com/ageitgey/face_recognition'>face_recognition</a>",
          "<a href='https://github.com/521xueweihan/HelloGitHub'>HelloGitHub</a>",
          "<a href='https://github.com/deepfakes/faceswap'>faceswap</a>",
          "<a href='https://github.com/shadowsocks/shadowsocks'>shadowsocks</a>",
          "<a href='https://github.com/apache/incubator-superset'>incubator-superset</a>",
          "<a href='https://github.com/XX-net/XX-Net'>XX-Net</a>",
          "<a href='https://github.com/0voice/interview_internal_reference'>interview_internal_reference</a>",
          "<a href='https://github.com/isocpp/CppCoreGuidelines'>CppCoreGuidelines</a>",
          "<a href='https://github.com/floodsung/Deep-Learning-Papers-Reading-Roadmap'>Deep-Learning-Papers-Reading-Roadmap</a>",
          "<a href='https://github.com/apachecn/AiLearning'>AiLearning</a>",
          "<a href='https://github.com/pandas-dev/pandas'>pandas</a>"
         ],
         "y": [
          116854,
          106504,
          97707,
          96611,
          91939,
          86360,
          68111,
          58194,
          54681,
          53361,
          50430,
          49337,
          47734,
          46297,
          44265,
          43578,
          39334,
          38889,
          38772,
          37934,
          35872,
          33767,
          32898,
          31704,
          30510,
          29859,
          29551,
          29005,
          28449,
          27871
         ]
        }
       ],
       "layout": {
        "template": {
         "data": {
          "bar": [
           {
            "error_x": {
             "color": "#2a3f5f"
            },
            "error_y": {
             "color": "#2a3f5f"
            },
            "marker": {
             "line": {
              "color": "#E5ECF6",
              "width": 0.5
             }
            },
            "type": "bar"
           }
          ],
          "barpolar": [
           {
            "marker": {
             "line": {
              "color": "#E5ECF6",
              "width": 0.5
             }
            },
            "type": "barpolar"
           }
          ],
          "carpet": [
           {
            "aaxis": {
             "endlinecolor": "#2a3f5f",
             "gridcolor": "white",
             "linecolor": "white",
             "minorgridcolor": "white",
             "startlinecolor": "#2a3f5f"
            },
            "baxis": {
             "endlinecolor": "#2a3f5f",
             "gridcolor": "white",
             "linecolor": "white",
             "minorgridcolor": "white",
             "startlinecolor": "#2a3f5f"
            },
            "type": "carpet"
           }
          ],
          "choropleth": [
           {
            "colorbar": {
             "outlinewidth": 0,
             "ticks": ""
            },
            "type": "choropleth"
           }
          ],
          "contour": [
           {
            "colorbar": {
             "outlinewidth": 0,
             "ticks": ""
            },
            "colorscale": [
             [
              0,
              "#0d0887"
             ],
             [
              0.1111111111111111,
              "#46039f"
             ],
             [
              0.2222222222222222,
              "#7201a8"
             ],
             [
              0.3333333333333333,
              "#9c179e"
             ],
             [
              0.4444444444444444,
              "#bd3786"
             ],
             [
              0.5555555555555556,
              "#d8576b"
             ],
             [
              0.6666666666666666,
              "#ed7953"
             ],
             [
              0.7777777777777778,
              "#fb9f3a"
             ],
             [
              0.8888888888888888,
              "#fdca26"
             ],
             [
              1,
              "#f0f921"
             ]
            ],
            "type": "contour"
           }
          ],
          "contourcarpet": [
           {
            "colorbar": {
             "outlinewidth": 0,
             "ticks": ""
            },
            "type": "contourcarpet"
           }
          ],
          "heatmap": [
           {
            "colorbar": {
             "outlinewidth": 0,
             "ticks": ""
            },
            "colorscale": [
             [
              0,
              "#0d0887"
             ],
             [
              0.1111111111111111,
              "#46039f"
             ],
             [
              0.2222222222222222,
              "#7201a8"
             ],
             [
              0.3333333333333333,
              "#9c179e"
             ],
             [
              0.4444444444444444,
              "#bd3786"
             ],
             [
              0.5555555555555556,
              "#d8576b"
             ],
             [
              0.6666666666666666,
              "#ed7953"
             ],
             [
              0.7777777777777778,
              "#fb9f3a"
             ],
             [
              0.8888888888888888,
              "#fdca26"
             ],
             [
              1,
              "#f0f921"
             ]
            ],
            "type": "heatmap"
           }
          ],
          "heatmapgl": [
           {
            "colorbar": {
             "outlinewidth": 0,
             "ticks": ""
            },
            "colorscale": [
             [
              0,
              "#0d0887"
             ],
             [
              0.1111111111111111,
              "#46039f"
             ],
             [
              0.2222222222222222,
              "#7201a8"
             ],
             [
              0.3333333333333333,
              "#9c179e"
             ],
             [
              0.4444444444444444,
              "#bd3786"
             ],
             [
              0.5555555555555556,
              "#d8576b"
             ],
             [
              0.6666666666666666,
              "#ed7953"
             ],
             [
              0.7777777777777778,
              "#fb9f3a"
             ],
             [
              0.8888888888888888,
              "#fdca26"
             ],
             [
              1,
              "#f0f921"
             ]
            ],
            "type": "heatmapgl"
           }
          ],
          "histogram": [
           {
            "marker": {
             "colorbar": {
              "outlinewidth": 0,
              "ticks": ""
             }
            },
            "type": "histogram"
           }
          ],
          "histogram2d": [
           {
            "colorbar": {
             "outlinewidth": 0,
             "ticks": ""
            },
            "colorscale": [
             [
              0,
              "#0d0887"
             ],
             [
              0.1111111111111111,
              "#46039f"
             ],
             [
              0.2222222222222222,
              "#7201a8"
             ],
             [
              0.3333333333333333,
              "#9c179e"
             ],
             [
              0.4444444444444444,
              "#bd3786"
             ],
             [
              0.5555555555555556,
              "#d8576b"
             ],
             [
              0.6666666666666666,
              "#ed7953"
             ],
             [
              0.7777777777777778,
              "#fb9f3a"
             ],
             [
              0.8888888888888888,
              "#fdca26"
             ],
             [
              1,
              "#f0f921"
             ]
            ],
            "type": "histogram2d"
           }
          ],
          "histogram2dcontour": [
           {
            "colorbar": {
             "outlinewidth": 0,
             "ticks": ""
            },
            "colorscale": [
             [
              0,
              "#0d0887"
             ],
             [
              0.1111111111111111,
              "#46039f"
             ],
             [
              0.2222222222222222,
              "#7201a8"
             ],
             [
              0.3333333333333333,
              "#9c179e"
             ],
             [
              0.4444444444444444,
              "#bd3786"
             ],
             [
              0.5555555555555556,
              "#d8576b"
             ],
             [
              0.6666666666666666,
              "#ed7953"
             ],
             [
              0.7777777777777778,
              "#fb9f3a"
             ],
             [
              0.8888888888888888,
              "#fdca26"
             ],
             [
              1,
              "#f0f921"
             ]
            ],
            "type": "histogram2dcontour"
           }
          ],
          "mesh3d": [
           {
            "colorbar": {
             "outlinewidth": 0,
             "ticks": ""
            },
            "type": "mesh3d"
           }
          ],
          "parcoords": [
           {
            "line": {
             "colorbar": {
              "outlinewidth": 0,
              "ticks": ""
             }
            },
            "type": "parcoords"
           }
          ],
          "pie": [
           {
            "automargin": true,
            "type": "pie"
           }
          ],
          "scatter": [
           {
            "marker": {
             "colorbar": {
              "outlinewidth": 0,
              "ticks": ""
             }
            },
            "type": "scatter"
           }
          ],
          "scatter3d": [
           {
            "line": {
             "colorbar": {
              "outlinewidth": 0,
              "ticks": ""
             }
            },
            "marker": {
             "colorbar": {
              "outlinewidth": 0,
              "ticks": ""
             }
            },
            "type": "scatter3d"
           }
          ],
          "scattercarpet": [
           {
            "marker": {
             "colorbar": {
              "outlinewidth": 0,
              "ticks": ""
             }
            },
            "type": "scattercarpet"
           }
          ],
          "scattergeo": [
           {
            "marker": {
             "colorbar": {
              "outlinewidth": 0,
              "ticks": ""
             }
            },
            "type": "scattergeo"
           }
          ],
          "scattergl": [
           {
            "marker": {
             "colorbar": {
              "outlinewidth": 0,
              "ticks": ""
             }
            },
            "type": "scattergl"
           }
          ],
          "scattermapbox": [
           {
            "marker": {
             "colorbar": {
              "outlinewidth": 0,
              "ticks": ""
             }
            },
            "type": "scattermapbox"
           }
          ],
          "scatterpolar": [
           {
            "marker": {
             "colorbar": {
              "outlinewidth": 0,
              "ticks": ""
             }
            },
            "type": "scatterpolar"
           }
          ],
          "scatterpolargl": [
           {
            "marker": {
             "colorbar": {
              "outlinewidth": 0,
              "ticks": ""
             }
            },
            "type": "scatterpolargl"
           }
          ],
          "scatterternary": [
           {
            "marker": {
             "colorbar": {
              "outlinewidth": 0,
              "ticks": ""
             }
            },
            "type": "scatterternary"
           }
          ],
          "surface": [
           {
            "colorbar": {
             "outlinewidth": 0,
             "ticks": ""
            },
            "colorscale": [
             [
              0,
              "#0d0887"
             ],
             [
              0.1111111111111111,
              "#46039f"
             ],
             [
              0.2222222222222222,
              "#7201a8"
             ],
             [
              0.3333333333333333,
              "#9c179e"
             ],
             [
              0.4444444444444444,
              "#bd3786"
             ],
             [
              0.5555555555555556,
              "#d8576b"
             ],
             [
              0.6666666666666666,
              "#ed7953"
             ],
             [
              0.7777777777777778,
              "#fb9f3a"
             ],
             [
              0.8888888888888888,
              "#fdca26"
             ],
             [
              1,
              "#f0f921"
             ]
            ],
            "type": "surface"
           }
          ],
          "table": [
           {
            "cells": {
             "fill": {
              "color": "#EBF0F8"
             },
             "line": {
              "color": "white"
             }
            },
            "header": {
             "fill": {
              "color": "#C8D4E3"
             },
             "line": {
              "color": "white"
             }
            },
            "type": "table"
           }
          ]
         },
         "layout": {
          "annotationdefaults": {
           "arrowcolor": "#2a3f5f",
           "arrowhead": 0,
           "arrowwidth": 1
          },
          "autotypenumbers": "strict",
          "coloraxis": {
           "colorbar": {
            "outlinewidth": 0,
            "ticks": ""
           }
          },
          "colorscale": {
           "diverging": [
            [
             0,
             "#8e0152"
            ],
            [
             0.1,
             "#c51b7d"
            ],
            [
             0.2,
             "#de77ae"
            ],
            [
             0.3,
             "#f1b6da"
            ],
            [
             0.4,
             "#fde0ef"
            ],
            [
             0.5,
             "#f7f7f7"
            ],
            [
             0.6,
             "#e6f5d0"
            ],
            [
             0.7,
             "#b8e186"
            ],
            [
             0.8,
             "#7fbc41"
            ],
            [
             0.9,
             "#4d9221"
            ],
            [
             1,
             "#276419"
            ]
           ],
           "sequential": [
            [
             0,
             "#0d0887"
            ],
            [
             0.1111111111111111,
             "#46039f"
            ],
            [
             0.2222222222222222,
             "#7201a8"
            ],
            [
             0.3333333333333333,
             "#9c179e"
            ],
            [
             0.4444444444444444,
             "#bd3786"
            ],
            [
             0.5555555555555556,
             "#d8576b"
            ],
            [
             0.6666666666666666,
             "#ed7953"
            ],
            [
             0.7777777777777778,
             "#fb9f3a"
            ],
            [
             0.8888888888888888,
             "#fdca26"
            ],
            [
             1,
             "#f0f921"
            ]
           ],
           "sequentialminus": [
            [
             0,
             "#0d0887"
            ],
            [
             0.1111111111111111,
             "#46039f"
            ],
            [
             0.2222222222222222,
             "#7201a8"
            ],
            [
             0.3333333333333333,
             "#9c179e"
            ],
            [
             0.4444444444444444,
             "#bd3786"
            ],
            [
             0.5555555555555556,
             "#d8576b"
            ],
            [
             0.6666666666666666,
             "#ed7953"
            ],
            [
             0.7777777777777778,
             "#fb9f3a"
            ],
            [
             0.8888888888888888,
             "#fdca26"
            ],
            [
             1,
             "#f0f921"
            ]
           ]
          },
          "colorway": [
           "#636efa",
           "#EF553B",
           "#00cc96",
           "#ab63fa",
           "#FFA15A",
           "#19d3f3",
           "#FF6692",
           "#B6E880",
           "#FF97FF",
           "#FECB52"
          ],
          "font": {
           "color": "#2a3f5f"
          },
          "geo": {
           "bgcolor": "white",
           "lakecolor": "white",
           "landcolor": "#E5ECF6",
           "showlakes": true,
           "showland": true,
           "subunitcolor": "white"
          },
          "hoverlabel": {
           "align": "left"
          },
          "hovermode": "closest",
          "mapbox": {
           "style": "light"
          },
          "paper_bgcolor": "white",
          "plot_bgcolor": "#E5ECF6",
          "polar": {
           "angularaxis": {
            "gridcolor": "white",
            "linecolor": "white",
            "ticks": ""
           },
           "bgcolor": "#E5ECF6",
           "radialaxis": {
            "gridcolor": "white",
            "linecolor": "white",
            "ticks": ""
           }
          },
          "scene": {
           "xaxis": {
            "backgroundcolor": "#E5ECF6",
            "gridcolor": "white",
            "gridwidth": 2,
            "linecolor": "white",
            "showbackground": true,
            "ticks": "",
            "zerolinecolor": "white"
           },
           "yaxis": {
            "backgroundcolor": "#E5ECF6",
            "gridcolor": "white",
            "gridwidth": 2,
            "linecolor": "white",
            "showbackground": true,
            "ticks": "",
            "zerolinecolor": "white"
           },
           "zaxis": {
            "backgroundcolor": "#E5ECF6",
            "gridcolor": "white",
            "gridwidth": 2,
            "linecolor": "white",
            "showbackground": true,
            "ticks": "",
            "zerolinecolor": "white"
           }
          },
          "shapedefaults": {
           "line": {
            "color": "#2a3f5f"
           }
          },
          "ternary": {
           "aaxis": {
            "gridcolor": "white",
            "linecolor": "white",
            "ticks": ""
           },
           "baxis": {
            "gridcolor": "white",
            "linecolor": "white",
            "ticks": ""
           },
           "bgcolor": "#E5ECF6",
           "caxis": {
            "gridcolor": "white",
            "linecolor": "white",
            "ticks": ""
           }
          },
          "title": {
           "x": 0.05
          },
          "xaxis": {
           "automargin": true,
           "gridcolor": "white",
           "linecolor": "white",
           "ticks": "",
           "title": {
            "standoff": 15
           },
           "zerolinecolor": "white",
           "zerolinewidth": 2
          },
          "yaxis": {
           "automargin": true,
           "gridcolor": "white",
           "linecolor": "white",
           "ticks": "",
           "title": {
            "standoff": 15
           },
           "zerolinecolor": "white",
           "zerolinewidth": 2
          }
         }
        },
        "title": {
         "font": {
          "size": 28
         },
         "text": "Most-Starred Python Projects on Github"
        },
        "xaxis": {
         "tickfont": {
          "size": 14
         },
         "title": {
          "font": {
           "size": 24
          },
          "text": "Repository"
         }
        },
        "yaxis": {
         "tickfont": {
          "size": 14
         },
         "title": {
          "font": {
           "size": 24
          },
          "text": "Stars"
         }
        }
       }
      },
      "text/html": [
       "<div>                            <div id=\"629236a1-d69e-4325-8f5e-32b594a58ba7\" class=\"plotly-graph-div\" style=\"height:525px; width:100%;\"></div>            <script type=\"text/javascript\">                require([\"plotly\"], function(Plotly) {                    window.PLOTLYENV=window.PLOTLYENV || {};                                    if (document.getElementById(\"629236a1-d69e-4325-8f5e-32b594a58ba7\")) {                    Plotly.newPlot(                        \"629236a1-d69e-4325-8f5e-32b594a58ba7\",                        [{\"hovertext\": [\"donnemartin<br />Learn how to design large-scale systems. Prep for the system design interview.  Includes Anki flashcards.\", \"public-apis<br />A collective list of free APIs for use in software and web development.\", \"jackfrued<br />Python - 100\\u5929\\u4ece\\u65b0\\u624b\\u5230\\u5927\\u5e08\", \"TheAlgorithms<br />All Algorithms implemented in Python\", \"vinta<br />A curated list of awesome Python frameworks, libraries, software and resources\", \"ytdl-org<br />Command-line program to download videos from YouTube.com and other video sites\", \"tensorflow<br />Models and examples built with TensorFlow\", \"nvbn<br />Magnificent app which corrects your previous console command.\", \"django<br />The Web framework for perfectionists with deadlines.\", \"pallets<br />The Python micro framework for building web applications.\", \"keras-team<br />Deep Learning for humans\", \"httpie<br />As easy as /aitch-tee-tee-pie/ \\ud83e\\udd67 Modern, user-friendly command-line HTTP client for the API era. JSON support, colors, sessions, downloads, plugins & more. https://twitter.com/httpie\", \"josephmisiti<br />A curated list of awesome Machine Learning frameworks, libraries and software.\", \"ansible<br />Ansible is a radically simple IT automation platform that makes your applications and systems easier to deploy and maintain. Automate everything from code deployment to network configuration to cloud management, in a language that approaches plain English, using SSH, with no agents to install on remote systems. https://docs.ansible.com.\", \"psf<br />A simple, yet elegant HTTP library.\", \"scikit-learn<br />scikit-learn: machine learning in Python\", \"scrapy<br />Scrapy, a fast high-level web crawling & scraping framework for Python.\", \"minimaxir<br />The Big List of Naughty Strings is a list of strings which have a high probability of causing issues when used as user-input data.\", \"huggingface<br />\\ud83e\\udd17Transformers: State-of-the-art Natural Language Processing for Pytorch and TensorFlow 2.0.\", \"ageitgey<br />The world's simplest facial recognition api for Python and the command line\", \"521xueweihan<br />:octocat: Find pearls on open-source seashore \\u5206\\u4eab GitHub \\u4e0a\\u6709\\u8da3\\u3001\\u5165\\u95e8\\u7ea7\\u7684\\u5f00\\u6e90\\u9879\\u76ee\", \"deepfakes<br />Deepfakes Software For All\", \"shadowsocks<br />None\", \"apache<br />Apache Superset is a Data Visualization and Data Exploration Platform\", \"XX-net<br />A proxy tool to bypass GFW.\", \"0voice<br />2020\\u5e74\\u6700\\u65b0\\u603b\\u7ed3\\uff0c\\u963f\\u91cc\\uff0c\\u817e\\u8baf\\uff0c\\u767e\\u5ea6\\uff0c\\u7f8e\\u56e2\\uff0c\\u5934\\u6761\\u7b49\\u6280\\u672f\\u9762\\u8bd5\\u9898\\u76ee\\uff0c\\u4ee5\\u53ca\\u7b54\\u6848\\uff0c\\u4e13\\u5bb6\\u51fa\\u9898\\u4eba\\u5206\\u6790\\u6c47\\u603b\\u3002\", \"isocpp<br />The C++ Core Guidelines are a set of tried-and-true guidelines, rules, and best practices about coding in C++\", \"floodsung<br />Deep Learning papers reading roadmap for anyone who are eager to learn this amazing tech!\", \"apachecn<br />AiLearning: \\u673a\\u5668\\u5b66\\u4e60 - MachineLearning - ML\\u3001\\u6df1\\u5ea6\\u5b66\\u4e60 - DeepLearning - DL\\u3001\\u81ea\\u7136\\u8bed\\u8a00\\u5904\\u7406 NLP\", \"pandas-dev<br />Flexible and powerful data analysis / manipulation library for Python, providing labeled data structures similar to R data.frame objects, statistical functions, and much more\"], \"marker\": {\"color\": \"rgb(60, 100, 150)\", \"line\": {\"color\": \"rgb(25, 25, 25)\", \"width\": 1.5}}, \"opacity\": 0.6, \"type\": \"bar\", \"x\": [\"<a href='https://github.com/donnemartin/system-design-primer'>system-design-primer</a>\", \"<a href='https://github.com/public-apis/public-apis'>public-apis</a>\", \"<a href='https://github.com/jackfrued/Python-100-Days'>Python-100-Days</a>\", \"<a href='https://github.com/TheAlgorithms/Python'>Python</a>\", \"<a href='https://github.com/vinta/awesome-python'>awesome-python</a>\", \"<a href='https://github.com/ytdl-org/youtube-dl'>youtube-dl</a>\", \"<a href='https://github.com/tensorflow/models'>models</a>\", \"<a href='https://github.com/nvbn/thefuck'>thefuck</a>\", \"<a href='https://github.com/django/django'>django</a>\", \"<a href='https://github.com/pallets/flask'>flask</a>\", \"<a href='https://github.com/keras-team/keras'>keras</a>\", \"<a href='https://github.com/httpie/httpie'>httpie</a>\", \"<a href='https://github.com/josephmisiti/awesome-machine-learning'>awesome-machine-learning</a>\", \"<a href='https://github.com/ansible/ansible'>ansible</a>\", \"<a href='https://github.com/psf/requests'>requests</a>\", \"<a href='https://github.com/scikit-learn/scikit-learn'>scikit-learn</a>\", \"<a href='https://github.com/scrapy/scrapy'>scrapy</a>\", \"<a href='https://github.com/minimaxir/big-list-of-naughty-strings'>big-list-of-naughty-strings</a>\", \"<a href='https://github.com/huggingface/transformers'>transformers</a>\", \"<a href='https://github.com/ageitgey/face_recognition'>face_recognition</a>\", \"<a href='https://github.com/521xueweihan/HelloGitHub'>HelloGitHub</a>\", \"<a href='https://github.com/deepfakes/faceswap'>faceswap</a>\", \"<a href='https://github.com/shadowsocks/shadowsocks'>shadowsocks</a>\", \"<a href='https://github.com/apache/incubator-superset'>incubator-superset</a>\", \"<a href='https://github.com/XX-net/XX-Net'>XX-Net</a>\", \"<a href='https://github.com/0voice/interview_internal_reference'>interview_internal_reference</a>\", \"<a href='https://github.com/isocpp/CppCoreGuidelines'>CppCoreGuidelines</a>\", \"<a href='https://github.com/floodsung/Deep-Learning-Papers-Reading-Roadmap'>Deep-Learning-Papers-Reading-Roadmap</a>\", \"<a href='https://github.com/apachecn/AiLearning'>AiLearning</a>\", \"<a href='https://github.com/pandas-dev/pandas'>pandas</a>\"], \"y\": [116854, 106504, 97707, 96611, 91939, 86360, 68111, 58194, 54681, 53361, 50430, 49337, 47734, 46297, 44265, 43578, 39334, 38889, 38772, 37934, 35872, 33767, 32898, 31704, 30510, 29859, 29551, 29005, 28449, 27871]}],                        {\"template\": {\"data\": {\"bar\": [{\"error_x\": {\"color\": \"#2a3f5f\"}, \"error_y\": {\"color\": \"#2a3f5f\"}, \"marker\": {\"line\": {\"color\": \"#E5ECF6\", \"width\": 0.5}}, \"type\": \"bar\"}], \"barpolar\": [{\"marker\": {\"line\": {\"color\": \"#E5ECF6\", \"width\": 0.5}}, \"type\": \"barpolar\"}], \"carpet\": [{\"aaxis\": {\"endlinecolor\": \"#2a3f5f\", \"gridcolor\": \"white\", \"linecolor\": \"white\", \"minorgridcolor\": \"white\", \"startlinecolor\": \"#2a3f5f\"}, \"baxis\": {\"endlinecolor\": \"#2a3f5f\", \"gridcolor\": \"white\", \"linecolor\": \"white\", \"minorgridcolor\": \"white\", \"startlinecolor\": \"#2a3f5f\"}, \"type\": \"carpet\"}], \"choropleth\": [{\"colorbar\": {\"outlinewidth\": 0, \"ticks\": \"\"}, \"type\": \"choropleth\"}], \"contour\": [{\"colorbar\": {\"outlinewidth\": 0, \"ticks\": \"\"}, \"colorscale\": [[0.0, \"#0d0887\"], [0.1111111111111111, \"#46039f\"], [0.2222222222222222, \"#7201a8\"], [0.3333333333333333, \"#9c179e\"], [0.4444444444444444, \"#bd3786\"], [0.5555555555555556, \"#d8576b\"], [0.6666666666666666, \"#ed7953\"], [0.7777777777777778, \"#fb9f3a\"], [0.8888888888888888, \"#fdca26\"], [1.0, \"#f0f921\"]], \"type\": \"contour\"}], \"contourcarpet\": [{\"colorbar\": {\"outlinewidth\": 0, \"ticks\": \"\"}, \"type\": \"contourcarpet\"}], \"heatmap\": [{\"colorbar\": {\"outlinewidth\": 0, \"ticks\": \"\"}, \"colorscale\": [[0.0, \"#0d0887\"], [0.1111111111111111, \"#46039f\"], [0.2222222222222222, \"#7201a8\"], [0.3333333333333333, \"#9c179e\"], [0.4444444444444444, \"#bd3786\"], [0.5555555555555556, \"#d8576b\"], [0.6666666666666666, \"#ed7953\"], [0.7777777777777778, \"#fb9f3a\"], [0.8888888888888888, \"#fdca26\"], [1.0, \"#f0f921\"]], \"type\": \"heatmap\"}], \"heatmapgl\": [{\"colorbar\": {\"outlinewidth\": 0, \"ticks\": \"\"}, \"colorscale\": [[0.0, \"#0d0887\"], [0.1111111111111111, \"#46039f\"], [0.2222222222222222, \"#7201a8\"], [0.3333333333333333, \"#9c179e\"], [0.4444444444444444, \"#bd3786\"], [0.5555555555555556, \"#d8576b\"], [0.6666666666666666, \"#ed7953\"], [0.7777777777777778, \"#fb9f3a\"], [0.8888888888888888, \"#fdca26\"], [1.0, \"#f0f921\"]], \"type\": \"heatmapgl\"}], \"histogram\": [{\"marker\": {\"colorbar\": {\"outlinewidth\": 0, \"ticks\": \"\"}}, \"type\": \"histogram\"}], \"histogram2d\": [{\"colorbar\": {\"outlinewidth\": 0, \"ticks\": \"\"}, \"colorscale\": [[0.0, \"#0d0887\"], [0.1111111111111111, \"#46039f\"], [0.2222222222222222, \"#7201a8\"], [0.3333333333333333, \"#9c179e\"], [0.4444444444444444, \"#bd3786\"], [0.5555555555555556, \"#d8576b\"], [0.6666666666666666, \"#ed7953\"], [0.7777777777777778, \"#fb9f3a\"], [0.8888888888888888, \"#fdca26\"], [1.0, \"#f0f921\"]], \"type\": \"histogram2d\"}], \"histogram2dcontour\": [{\"colorbar\": {\"outlinewidth\": 0, \"ticks\": \"\"}, \"colorscale\": [[0.0, \"#0d0887\"], [0.1111111111111111, \"#46039f\"], [0.2222222222222222, \"#7201a8\"], [0.3333333333333333, \"#9c179e\"], [0.4444444444444444, \"#bd3786\"], [0.5555555555555556, \"#d8576b\"], [0.6666666666666666, \"#ed7953\"], [0.7777777777777778, \"#fb9f3a\"], [0.8888888888888888, \"#fdca26\"], [1.0, \"#f0f921\"]], \"type\": \"histogram2dcontour\"}], \"mesh3d\": [{\"colorbar\": {\"outlinewidth\": 0, \"ticks\": \"\"}, \"type\": \"mesh3d\"}], \"parcoords\": [{\"line\": {\"colorbar\": {\"outlinewidth\": 0, \"ticks\": \"\"}}, \"type\": \"parcoords\"}], \"pie\": [{\"automargin\": true, \"type\": \"pie\"}], \"scatter\": [{\"marker\": {\"colorbar\": {\"outlinewidth\": 0, \"ticks\": \"\"}}, \"type\": \"scatter\"}], \"scatter3d\": [{\"line\": {\"colorbar\": {\"outlinewidth\": 0, \"ticks\": \"\"}}, \"marker\": {\"colorbar\": {\"outlinewidth\": 0, \"ticks\": \"\"}}, \"type\": \"scatter3d\"}], \"scattercarpet\": [{\"marker\": {\"colorbar\": {\"outlinewidth\": 0, \"ticks\": \"\"}}, \"type\": \"scattercarpet\"}], \"scattergeo\": [{\"marker\": {\"colorbar\": {\"outlinewidth\": 0, \"ticks\": \"\"}}, \"type\": \"scattergeo\"}], \"scattergl\": [{\"marker\": {\"colorbar\": {\"outlinewidth\": 0, \"ticks\": \"\"}}, \"type\": \"scattergl\"}], \"scattermapbox\": [{\"marker\": {\"colorbar\": {\"outlinewidth\": 0, \"ticks\": \"\"}}, \"type\": \"scattermapbox\"}], \"scatterpolar\": [{\"marker\": {\"colorbar\": {\"outlinewidth\": 0, \"ticks\": \"\"}}, \"type\": \"scatterpolar\"}], \"scatterpolargl\": [{\"marker\": {\"colorbar\": {\"outlinewidth\": 0, \"ticks\": \"\"}}, \"type\": \"scatterpolargl\"}], \"scatterternary\": [{\"marker\": {\"colorbar\": {\"outlinewidth\": 0, \"ticks\": \"\"}}, \"type\": \"scatterternary\"}], \"surface\": [{\"colorbar\": {\"outlinewidth\": 0, \"ticks\": \"\"}, \"colorscale\": [[0.0, \"#0d0887\"], [0.1111111111111111, \"#46039f\"], [0.2222222222222222, \"#7201a8\"], [0.3333333333333333, \"#9c179e\"], [0.4444444444444444, \"#bd3786\"], [0.5555555555555556, \"#d8576b\"], [0.6666666666666666, \"#ed7953\"], [0.7777777777777778, \"#fb9f3a\"], [0.8888888888888888, \"#fdca26\"], [1.0, \"#f0f921\"]], \"type\": \"surface\"}], \"table\": [{\"cells\": {\"fill\": {\"color\": \"#EBF0F8\"}, \"line\": {\"color\": \"white\"}}, \"header\": {\"fill\": {\"color\": \"#C8D4E3\"}, \"line\": {\"color\": \"white\"}}, \"type\": \"table\"}]}, \"layout\": {\"annotationdefaults\": {\"arrowcolor\": \"#2a3f5f\", \"arrowhead\": 0, \"arrowwidth\": 1}, \"autotypenumbers\": \"strict\", \"coloraxis\": {\"colorbar\": {\"outlinewidth\": 0, \"ticks\": \"\"}}, \"colorscale\": {\"diverging\": [[0, \"#8e0152\"], [0.1, \"#c51b7d\"], [0.2, \"#de77ae\"], [0.3, \"#f1b6da\"], [0.4, \"#fde0ef\"], [0.5, \"#f7f7f7\"], [0.6, \"#e6f5d0\"], [0.7, \"#b8e186\"], [0.8, \"#7fbc41\"], [0.9, \"#4d9221\"], [1, \"#276419\"]], \"sequential\": [[0.0, \"#0d0887\"], [0.1111111111111111, \"#46039f\"], [0.2222222222222222, \"#7201a8\"], [0.3333333333333333, \"#9c179e\"], [0.4444444444444444, \"#bd3786\"], [0.5555555555555556, \"#d8576b\"], [0.6666666666666666, \"#ed7953\"], [0.7777777777777778, \"#fb9f3a\"], [0.8888888888888888, \"#fdca26\"], [1.0, \"#f0f921\"]], \"sequentialminus\": [[0.0, \"#0d0887\"], [0.1111111111111111, \"#46039f\"], [0.2222222222222222, \"#7201a8\"], [0.3333333333333333, \"#9c179e\"], [0.4444444444444444, \"#bd3786\"], [0.5555555555555556, \"#d8576b\"], [0.6666666666666666, \"#ed7953\"], [0.7777777777777778, \"#fb9f3a\"], [0.8888888888888888, \"#fdca26\"], [1.0, \"#f0f921\"]]}, \"colorway\": [\"#636efa\", \"#EF553B\", \"#00cc96\", \"#ab63fa\", \"#FFA15A\", \"#19d3f3\", \"#FF6692\", \"#B6E880\", \"#FF97FF\", \"#FECB52\"], \"font\": {\"color\": \"#2a3f5f\"}, \"geo\": {\"bgcolor\": \"white\", \"lakecolor\": \"white\", \"landcolor\": \"#E5ECF6\", \"showlakes\": true, \"showland\": true, \"subunitcolor\": \"white\"}, \"hoverlabel\": {\"align\": \"left\"}, \"hovermode\": \"closest\", \"mapbox\": {\"style\": \"light\"}, \"paper_bgcolor\": \"white\", \"plot_bgcolor\": \"#E5ECF6\", \"polar\": {\"angularaxis\": {\"gridcolor\": \"white\", \"linecolor\": \"white\", \"ticks\": \"\"}, \"bgcolor\": \"#E5ECF6\", \"radialaxis\": {\"gridcolor\": \"white\", \"linecolor\": \"white\", \"ticks\": \"\"}}, \"scene\": {\"xaxis\": {\"backgroundcolor\": \"#E5ECF6\", \"gridcolor\": \"white\", \"gridwidth\": 2, \"linecolor\": \"white\", \"showbackground\": true, \"ticks\": \"\", \"zerolinecolor\": \"white\"}, \"yaxis\": {\"backgroundcolor\": \"#E5ECF6\", \"gridcolor\": \"white\", \"gridwidth\": 2, \"linecolor\": \"white\", \"showbackground\": true, \"ticks\": \"\", \"zerolinecolor\": \"white\"}, \"zaxis\": {\"backgroundcolor\": \"#E5ECF6\", \"gridcolor\": \"white\", \"gridwidth\": 2, \"linecolor\": \"white\", \"showbackground\": true, \"ticks\": \"\", \"zerolinecolor\": \"white\"}}, \"shapedefaults\": {\"line\": {\"color\": \"#2a3f5f\"}}, \"ternary\": {\"aaxis\": {\"gridcolor\": \"white\", \"linecolor\": \"white\", \"ticks\": \"\"}, \"baxis\": {\"gridcolor\": \"white\", \"linecolor\": \"white\", \"ticks\": \"\"}, \"bgcolor\": \"#E5ECF6\", \"caxis\": {\"gridcolor\": \"white\", \"linecolor\": \"white\", \"ticks\": \"\"}}, \"title\": {\"x\": 0.05}, \"xaxis\": {\"automargin\": true, \"gridcolor\": \"white\", \"linecolor\": \"white\", \"ticks\": \"\", \"title\": {\"standoff\": 15}, \"zerolinecolor\": \"white\", \"zerolinewidth\": 2}, \"yaxis\": {\"automargin\": true, \"gridcolor\": \"white\", \"linecolor\": \"white\", \"ticks\": \"\", \"title\": {\"standoff\": 15}, \"zerolinecolor\": \"white\", \"zerolinewidth\": 2}}}, \"title\": {\"font\": {\"size\": 28}, \"text\": \"Most-Starred Python Projects on Github\"}, \"xaxis\": {\"tickfont\": {\"size\": 14}, \"title\": {\"font\": {\"size\": 24}, \"text\": \"Repository\"}}, \"yaxis\": {\"tickfont\": {\"size\": 14}, \"title\": {\"font\": {\"size\": 24}, \"text\": \"Stars\"}}},                        {\"responsive\": true}                    ).then(function(){\n",
       "                            \n",
       "var gd = document.getElementById('629236a1-d69e-4325-8f5e-32b594a58ba7');\n",
       "var x = new MutationObserver(function (mutations, observer) {{\n",
       "        var display = window.getComputedStyle(gd).display;\n",
       "        if (!display || display === 'none') {{\n",
       "            console.log([gd, 'removed!']);\n",
       "            Plotly.purge(gd);\n",
       "            observer.disconnect();\n",
       "        }}\n",
       "}});\n",
       "\n",
       "// Listen for the removal of the full notebook cells\n",
       "var notebookContainer = gd.closest('#notebook-container');\n",
       "if (notebookContainer) {{\n",
       "    x.observe(notebookContainer, {childList: true});\n",
       "}}\n",
       "\n",
       "// Listen for the clearing of the current output cell\n",
       "var outputEl = gd.closest('.output');\n",
       "if (outputEl) {{\n",
       "    x.observe(outputEl, {childList: true});\n",
       "}}\n",
       "\n",
       "                        })                };                });            </script>        </div>"
      ]
     },
     "metadata": {},
     "output_type": "display_data"
    }
   ],
   "source": [
    "\"\"\"adding custom tooltips and clickable links\"\"\"\n",
    "\n",
    "from plotly.graph_objs import Bar # import plotly bar chart\n",
    "from plotly import offline        # import offline charting\n",
    "\n",
    "\"\"\"extract data to be plotted\"\"\"\n",
    "repo_links, stars, labels = [], [], [] # create to empty lists for names, number of stars, and labels\n",
    "for repo_dict in repo_dicts:                        # for loop looking at each repository\n",
    "    repo_name = repo_dict['name']                       # variable for name of repository\n",
    "    repo_url = repo_dict['html_url']                    # variable for the url of repository\n",
    "    repo_link = f\"<a href='{repo_url}'>{repo_name}</a>\" # generate link to project using name and link\n",
    "                                                            # note html code to create link and link text\n",
    "                                                            # <href='url'> = url link\n",
    "                                                            # link text</a> = url display text\n",
    "    repo_links.append(repo_link)                        # add formatted repo link to list of repo links\n",
    "    repo_names.append(repo_dict['name'])                # add name of dictionary to repo_names list\n",
    "    stars.append(repo_dict['stargazers_count'])         # add number of stars to stars list\n",
    "    owner = repo_dict['owner']['login']                 # variable for owner of repository\n",
    "    description = repo_dict['description']              # variable for repository title\n",
    "    label = f\"{owner}<br />{description}\"               # label string for owner and description\n",
    "                                                            # note the html code for a line break <br />\n",
    "    labels.append(label)                                # add label to list of labels\n",
    "    \n",
    "\"\"\"define data in plot\"\"\"\n",
    "data = [{                # data to be plotted\n",
    "    'type': \"bar\",       # define type of chart\n",
    "    'x': repo_links,     # set x_axis data\n",
    "    'y': stars,          # set y)axis data\n",
    "    'hovertext': labels, # set hovertext to labels list\n",
    "    'marker': {          # set markers\n",
    "        'color': 'rgb(60, 100, 150)',                      # set marker color\n",
    "        'line': {'width': 1.5, 'color': 'rgb(25, 25, 25)'} # set line width and color\n",
    "    },\n",
    "    'opacity': 0.6,      # set opacity of bars\n",
    "}]\n",
    "    \n",
    "\"\"\"create chart layout\"\"\"\n",
    "my_layout = {                                      # create layout\n",
    "    'title': 'Most-Starred Python Projects on Github', # set title\n",
    "    'titlefont': {'size': 28},                         # set title font\n",
    "    'xaxis': {                                         # xaxis\n",
    "        'title': 'Repository',                             # x axis title\n",
    "        'titlefont': {'size': 24},                         # x axis titlefont\n",
    "        'tickfont': {'size': 14},                          # x axis tick font\n",
    "    },                        \n",
    "    'yaxis': {                                         # y axis\n",
    "        'title': 'Stars',                                  # y axis title\n",
    "        'titlefont': {'size': 24},                         # y axis font\n",
    "        'tickfont': {'size': 14},                          # y axis tickfont\n",
    "    },                       \n",
    "}\n",
    "    \n",
    "\"\"\"create visualization\"\"\"\n",
    "fig = {'data': data, 'layout': my_layout}        # create figure with data and layout\n",
    "offline.iplot(fig, filename='python_repos.html') # create visualization window"
   ]
  },
  {
   "cell_type": "code",
   "execution_count": null,
   "metadata": {},
   "outputs": [],
   "source": []
  }
 ],
 "metadata": {
  "kernelspec": {
   "display_name": "Python 3",
   "language": "python",
   "name": "python3"
  },
  "language_info": {
   "codemirror_mode": {
    "name": "ipython",
    "version": 3
   },
   "file_extension": ".py",
   "mimetype": "text/x-python",
   "name": "python",
   "nbconvert_exporter": "python",
   "pygments_lexer": "ipython3",
   "version": "3.8.5"
  }
 },
 "nbformat": 4,
 "nbformat_minor": 4
}
